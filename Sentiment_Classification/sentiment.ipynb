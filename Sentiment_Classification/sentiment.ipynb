{
  "nbformat": 4,
  "nbformat_minor": 0,
  "metadata": {
    "colab": {
      "name": "Untitled1.ipynb",
      "provenance": [],
      "collapsed_sections": [],
      "toc_visible": true
    },
    "kernelspec": {
      "name": "python3",
      "display_name": "Python 3"
    }
  },
  "cells": [
    {
      "cell_type": "code",
      "metadata": {
        "id": "c6qdLhYiYv0k",
        "colab_type": "code",
        "colab": {}
      },
      "source": [
        "import pandas as pd\n",
        "import numpy as np"
      ],
      "execution_count": 0,
      "outputs": []
    },
    {
      "cell_type": "code",
      "metadata": {
        "id": "UYHCIFDKYfQ1",
        "colab_type": "code",
        "outputId": "888511bf-25bb-43fe-c1a9-ee6ae5b63ed1",
        "colab": {
          "base_uri": "https://localhost:8080/",
          "height": 419
        }
      },
      "source": [
        "df=pd.read_csv('/content/drive/My Drive/all_data.csv',encoding='latin-1',names=['sentiments','description'])\n",
        "df"
      ],
      "execution_count": 2,
      "outputs": [
        {
          "output_type": "execute_result",
          "data": {
            "text/html": [
              "<div>\n",
              "<style scoped>\n",
              "    .dataframe tbody tr th:only-of-type {\n",
              "        vertical-align: middle;\n",
              "    }\n",
              "\n",
              "    .dataframe tbody tr th {\n",
              "        vertical-align: top;\n",
              "    }\n",
              "\n",
              "    .dataframe thead th {\n",
              "        text-align: right;\n",
              "    }\n",
              "</style>\n",
              "<table border=\"1\" class=\"dataframe\">\n",
              "  <thead>\n",
              "    <tr style=\"text-align: right;\">\n",
              "      <th></th>\n",
              "      <th>sentiments</th>\n",
              "      <th>description</th>\n",
              "    </tr>\n",
              "  </thead>\n",
              "  <tbody>\n",
              "    <tr>\n",
              "      <th>0</th>\n",
              "      <td>neutral</td>\n",
              "      <td>According to Gran , the company has no plans t...</td>\n",
              "    </tr>\n",
              "    <tr>\n",
              "      <th>1</th>\n",
              "      <td>neutral</td>\n",
              "      <td>Technopolis plans to develop in stages an area...</td>\n",
              "    </tr>\n",
              "    <tr>\n",
              "      <th>2</th>\n",
              "      <td>negative</td>\n",
              "      <td>The international electronic industry company ...</td>\n",
              "    </tr>\n",
              "    <tr>\n",
              "      <th>3</th>\n",
              "      <td>positive</td>\n",
              "      <td>With the new production plant the company woul...</td>\n",
              "    </tr>\n",
              "    <tr>\n",
              "      <th>4</th>\n",
              "      <td>positive</td>\n",
              "      <td>According to the company 's updated strategy f...</td>\n",
              "    </tr>\n",
              "    <tr>\n",
              "      <th>...</th>\n",
              "      <td>...</td>\n",
              "      <td>...</td>\n",
              "    </tr>\n",
              "    <tr>\n",
              "      <th>4841</th>\n",
              "      <td>negative</td>\n",
              "      <td>LONDON MarketWatch -- Share prices ended lower...</td>\n",
              "    </tr>\n",
              "    <tr>\n",
              "      <th>4842</th>\n",
              "      <td>neutral</td>\n",
              "      <td>Rinkuskiai 's beer sales fell by 6.5 per cent ...</td>\n",
              "    </tr>\n",
              "    <tr>\n",
              "      <th>4843</th>\n",
              "      <td>negative</td>\n",
              "      <td>Operating profit fell to EUR 35.4 mn from EUR ...</td>\n",
              "    </tr>\n",
              "    <tr>\n",
              "      <th>4844</th>\n",
              "      <td>negative</td>\n",
              "      <td>Net sales of the Paper segment decreased to EU...</td>\n",
              "    </tr>\n",
              "    <tr>\n",
              "      <th>4845</th>\n",
              "      <td>negative</td>\n",
              "      <td>Sales in Finland decreased by 10.5 % in Januar...</td>\n",
              "    </tr>\n",
              "  </tbody>\n",
              "</table>\n",
              "<p>4846 rows × 2 columns</p>\n",
              "</div>"
            ],
            "text/plain": [
              "     sentiments                                        description\n",
              "0       neutral  According to Gran , the company has no plans t...\n",
              "1       neutral  Technopolis plans to develop in stages an area...\n",
              "2      negative  The international electronic industry company ...\n",
              "3      positive  With the new production plant the company woul...\n",
              "4      positive  According to the company 's updated strategy f...\n",
              "...         ...                                                ...\n",
              "4841   negative  LONDON MarketWatch -- Share prices ended lower...\n",
              "4842    neutral  Rinkuskiai 's beer sales fell by 6.5 per cent ...\n",
              "4843   negative  Operating profit fell to EUR 35.4 mn from EUR ...\n",
              "4844   negative  Net sales of the Paper segment decreased to EU...\n",
              "4845   negative  Sales in Finland decreased by 10.5 % in Januar...\n",
              "\n",
              "[4846 rows x 2 columns]"
            ]
          },
          "metadata": {
            "tags": []
          },
          "execution_count": 2
        }
      ]
    },
    {
      "cell_type": "code",
      "metadata": {
        "id": "g8BFn7yDZch8",
        "colab_type": "code",
        "outputId": "841f1414-b3f5-4946-a0f0-5d08325ce78a",
        "colab": {
          "base_uri": "https://localhost:8080/",
          "height": 170
        }
      },
      "source": [
        "df.info()"
      ],
      "execution_count": 3,
      "outputs": [
        {
          "output_type": "stream",
          "text": [
            "<class 'pandas.core.frame.DataFrame'>\n",
            "RangeIndex: 4846 entries, 0 to 4845\n",
            "Data columns (total 2 columns):\n",
            " #   Column       Non-Null Count  Dtype \n",
            "---  ------       --------------  ----- \n",
            " 0   sentiments   4846 non-null   object\n",
            " 1   description  4846 non-null   object\n",
            "dtypes: object(2)\n",
            "memory usage: 75.8+ KB\n"
          ],
          "name": "stdout"
        }
      ]
    },
    {
      "cell_type": "code",
      "metadata": {
        "id": "HFKqgho9YtTa",
        "colab_type": "code",
        "outputId": "92306336-51df-4304-e7ab-5308a2cd1ee1",
        "colab": {
          "base_uri": "https://localhost:8080/",
          "height": 85
        }
      },
      "source": [
        "df['sentiments'].value_counts()"
      ],
      "execution_count": 4,
      "outputs": [
        {
          "output_type": "execute_result",
          "data": {
            "text/plain": [
              "neutral     2879\n",
              "positive    1363\n",
              "negative     604\n",
              "Name: sentiments, dtype: int64"
            ]
          },
          "metadata": {
            "tags": []
          },
          "execution_count": 4
        }
      ]
    },
    {
      "cell_type": "code",
      "metadata": {
        "id": "16O-HS1qZLvb",
        "colab_type": "code",
        "outputId": "2ba6896b-fbfb-4842-ca1b-0adb9b6f2570",
        "colab": {
          "base_uri": "https://localhost:8080/",
          "height": 332
        }
      },
      "source": [
        "df.groupby('sentiments').count().plot.bar()"
      ],
      "execution_count": 5,
      "outputs": [
        {
          "output_type": "execute_result",
          "data": {
            "text/plain": [
              "<matplotlib.axes._subplots.AxesSubplot at 0x7fce253f3160>"
            ]
          },
          "metadata": {
            "tags": []
          },
          "execution_count": 5
        },
        {
          "output_type": "display_data",
          "data": {
            "image/png": "[encoded data removed]",
            "text/plain": [
              "<Figure size 432x288 with 1 Axes>"
            ]
          },
          "metadata": {
            "tags": [],
            "needs_background": "light"
          }
        }
      ]
    },
    {
      "cell_type": "code",
      "metadata": {
        "id": "Y1PvFl7RFBgi",
        "colab_type": "code",
        "colab": {}
      },
      "source": [
        ""
      ],
      "execution_count": 0,
      "outputs": []
    },
    {
      "cell_type": "code",
      "metadata": {
        "id": "FRBz1V28GPra",
        "colab_type": "code",
        "colab": {}
      },
      "source": [
        "#print(len(df['description'][0].split(\" \")))\n",
        "#print(len(set(df['description'][0].split(\" \"))))"
      ],
      "execution_count": 0,
      "outputs": []
    },
    {
      "cell_type": "code",
      "metadata": {
        "id": "JApQi_qFaQVv",
        "colab_type": "code",
        "colab": {}
      },
      "source": [
        "df['des_length'] = df['description'].str.len()"
      ],
      "execution_count": 0,
      "outputs": []
    },
    {
      "cell_type": "code",
      "metadata": {
        "id": "UZDQbGxAZU-R",
        "colab_type": "code",
        "colab": {}
      },
      "source": [
        "df['word_count'] = df['description'].apply(lambda row: len(row.split(\" \")))"
      ],
      "execution_count": 0,
      "outputs": []
    },
    {
      "cell_type": "code",
      "metadata": {
        "id": "6y-b2EmXooG_",
        "colab_type": "code",
        "colab": {}
      },
      "source": [
        "df['unique_words'] = df['description'].apply(lambda row: len(set(row.split(\" \"))))"
      ],
      "execution_count": 0,
      "outputs": []
    },
    {
      "cell_type": "code",
      "metadata": {
        "id": "jYwc_BLyo5Hs",
        "colab_type": "code",
        "colab": {}
      },
      "source": [
        "#s=set(map(lambda word: word.lower().strip(), df['description'][0].split(\" \")))\n",
        "#s11=list(map(lambda word: word.lower().strip(), df['description'][0].split(\" \")))\n",
        "\n",
        "#print(len(s)/len(s11))\n",
        "#print(len(set(s)"
      ],
      "execution_count": 0,
      "outputs": []
    },
    {
      "cell_type": "code",
      "metadata": {
        "id": "flhXqEtxqOYJ",
        "colab_type": "code",
        "colab": {}
      },
      "source": [
        "def uniqueness_ratio(row):\n",
        "        w1 = set(map(lambda word: word.lower().strip(), row['description'].split(\" \")))\n",
        "        w2 = list(map(lambda word: word.lower().strip(), row['description'].split(\" \")))    \n",
        "        return 1.0 * (len(w1) / len(w2))"
      ],
      "execution_count": 0,
      "outputs": []
    },
    {
      "cell_type": "code",
      "metadata": {
        "id": "nAXQNtvwrrXP",
        "colab_type": "code",
        "colab": {}
      },
      "source": [
        "df['Unique_word_ratio'] = df.apply(uniqueness_ratio,axis=1)"
      ],
      "execution_count": 0,
      "outputs": []
    },
    {
      "cell_type": "code",
      "metadata": {
        "id": "YBSwU9RWr1aA",
        "colab_type": "code",
        "outputId": "5a797b67-7e73-4bb6-8f03-6b5b2039b913",
        "colab": {
          "base_uri": "https://localhost:8080/",
          "height": 589
        }
      },
      "source": [
        "df"
      ],
      "execution_count": 13,
      "outputs": [
        {
          "output_type": "execute_result",
          "data": {
            "text/html": [
              "<div>\n",
              "<style scoped>\n",
              "    .dataframe tbody tr th:only-of-type {\n",
              "        vertical-align: middle;\n",
              "    }\n",
              "\n",
              "    .dataframe tbody tr th {\n",
              "        vertical-align: top;\n",
              "    }\n",
              "\n",
              "    .dataframe thead th {\n",
              "        text-align: right;\n",
              "    }\n",
              "</style>\n",
              "<table border=\"1\" class=\"dataframe\">\n",
              "  <thead>\n",
              "    <tr style=\"text-align: right;\">\n",
              "      <th></th>\n",
              "      <th>sentiments</th>\n",
              "      <th>description</th>\n",
              "      <th>des_length</th>\n",
              "      <th>word_count</th>\n",
              "      <th>unique_words</th>\n",
              "      <th>Unique_word_ratio</th>\n",
              "    </tr>\n",
              "  </thead>\n",
              "  <tbody>\n",
              "    <tr>\n",
              "      <th>0</th>\n",
              "      <td>neutral</td>\n",
              "      <td>According to Gran , the company has no plans t...</td>\n",
              "      <td>127</td>\n",
              "      <td>25</td>\n",
              "      <td>19</td>\n",
              "      <td>0.760000</td>\n",
              "    </tr>\n",
              "    <tr>\n",
              "      <th>1</th>\n",
              "      <td>neutral</td>\n",
              "      <td>Technopolis plans to develop in stages an area...</td>\n",
              "      <td>190</td>\n",
              "      <td>31</td>\n",
              "      <td>28</td>\n",
              "      <td>0.903226</td>\n",
              "    </tr>\n",
              "    <tr>\n",
              "      <th>2</th>\n",
              "      <td>negative</td>\n",
              "      <td>The international electronic industry company ...</td>\n",
              "      <td>228</td>\n",
              "      <td>36</td>\n",
              "      <td>31</td>\n",
              "      <td>0.833333</td>\n",
              "    </tr>\n",
              "    <tr>\n",
              "      <th>3</th>\n",
              "      <td>positive</td>\n",
              "      <td>With the new production plant the company woul...</td>\n",
              "      <td>206</td>\n",
              "      <td>33</td>\n",
              "      <td>24</td>\n",
              "      <td>0.727273</td>\n",
              "    </tr>\n",
              "    <tr>\n",
              "      <th>4</th>\n",
              "      <td>positive</td>\n",
              "      <td>According to the company 's updated strategy f...</td>\n",
              "      <td>203</td>\n",
              "      <td>41</td>\n",
              "      <td>32</td>\n",
              "      <td>0.780488</td>\n",
              "    </tr>\n",
              "    <tr>\n",
              "      <th>...</th>\n",
              "      <td>...</td>\n",
              "      <td>...</td>\n",
              "      <td>...</td>\n",
              "      <td>...</td>\n",
              "      <td>...</td>\n",
              "      <td>...</td>\n",
              "    </tr>\n",
              "    <tr>\n",
              "      <th>4841</th>\n",
              "      <td>negative</td>\n",
              "      <td>LONDON MarketWatch -- Share prices ended lower...</td>\n",
              "      <td>144</td>\n",
              "      <td>26</td>\n",
              "      <td>25</td>\n",
              "      <td>0.923077</td>\n",
              "    </tr>\n",
              "    <tr>\n",
              "      <th>4842</th>\n",
              "      <td>neutral</td>\n",
              "      <td>Rinkuskiai 's beer sales fell by 6.5 per cent ...</td>\n",
              "      <td>148</td>\n",
              "      <td>30</td>\n",
              "      <td>22</td>\n",
              "      <td>0.733333</td>\n",
              "    </tr>\n",
              "    <tr>\n",
              "      <th>4843</th>\n",
              "      <td>negative</td>\n",
              "      <td>Operating profit fell to EUR 35.4 mn from EUR ...</td>\n",
              "      <td>108</td>\n",
              "      <td>23</td>\n",
              "      <td>19</td>\n",
              "      <td>0.826087</td>\n",
              "    </tr>\n",
              "    <tr>\n",
              "      <th>4844</th>\n",
              "      <td>negative</td>\n",
              "      <td>Net sales of the Paper segment decreased to EU...</td>\n",
              "      <td>226</td>\n",
              "      <td>44</td>\n",
              "      <td>29</td>\n",
              "      <td>0.659091</td>\n",
              "    </tr>\n",
              "    <tr>\n",
              "      <th>4845</th>\n",
              "      <td>negative</td>\n",
              "      <td>Sales in Finland decreased by 10.5 % in Januar...</td>\n",
              "      <td>95</td>\n",
              "      <td>19</td>\n",
              "      <td>15</td>\n",
              "      <td>0.736842</td>\n",
              "    </tr>\n",
              "  </tbody>\n",
              "</table>\n",
              "<p>4846 rows × 6 columns</p>\n",
              "</div>"
            ],
            "text/plain": [
              "     sentiments  ... Unique_word_ratio\n",
              "0       neutral  ...          0.760000\n",
              "1       neutral  ...          0.903226\n",
              "2      negative  ...          0.833333\n",
              "3      positive  ...          0.727273\n",
              "4      positive  ...          0.780488\n",
              "...         ...  ...               ...\n",
              "4841   negative  ...          0.923077\n",
              "4842    neutral  ...          0.733333\n",
              "4843   negative  ...          0.826087\n",
              "4844   negative  ...          0.659091\n",
              "4845   negative  ...          0.736842\n",
              "\n",
              "[4846 rows x 6 columns]"
            ]
          },
          "metadata": {
            "tags": []
          },
          "execution_count": 13
        }
      ]
    },
    {
      "cell_type": "code",
      "metadata": {
        "id": "erZ8exerMk96",
        "colab_type": "code",
        "colab": {}
      },
      "source": [
        "from wordcloud import WordCloud, STOPWORDS\n",
        "from nltk.stem import PorterStemmer\n",
        "import re"
      ],
      "execution_count": 0,
      "outputs": []
    },
    {
      "cell_type": "code",
      "metadata": {
        "id": "NxiyP6BUMnAS",
        "colab_type": "code",
        "outputId": "0c57ff4e-9d3f-41b7-8296-05ad7994a3b3",
        "colab": {
          "base_uri": "https://localhost:8080/",
          "height": 54
        }
      },
      "source": [
        "print((STOPWORDS))"
      ],
      "execution_count": 17,
      "outputs": [
        {
          "output_type": "stream",
          "text": [
            "{'about', 'no', 'off', 'doing', 'an', 'myself', \"i'd\", 'on', \"weren't\", \"shan't\", 'that', \"hadn't\", 'get', 'our', 'very', 'more', \"don't\", 'i', \"he'd\", 'when', 'through', 'than', 'there', 'www', 'yourself', 'the', 'so', 'by', 'were', \"aren't\", 'not', \"he'll\", 'they', 'which', 'who', 'and', \"why's\", 'ours', 'after', 'under', 'itself', 'only', 'some', 'these', 'can', 'further', 'below', 'how', 'it', \"what's\", 'been', 'at', 'we', 'any', 'like', 'themselves', \"where's\", 'cannot', 'am', 'could', \"he's\", 'theirs', 'having', 'did', 'before', \"we've\", \"i've\", 'k', 'would', 'if', 'with', \"you're\", 'has', 'also', 'com', 'had', 'same', 'once', 'shall', 'ever', \"it's\", 'such', \"mustn't\", \"doesn't\", 'above', 'since', \"i'm\", 'this', 'nor', 'or', 'while', \"haven't\", 'again', 'in', 'just', \"when's\", 'yours', 'against', 'up', 'do', 'other', \"how's\", 'http', \"isn't\", \"wasn't\", 'however', 'ought', 'being', 'each', 'are', 'into', \"i'll\", \"we'll\", 'between', \"couldn't\", 'over', \"let's\", 'of', 'else', \"we're\", \"you'll\", 'them', 'during', \"wouldn't\", 'but', 'ourselves', \"there's\", 'those', \"we'd\", 'as', \"you'd\", 'she', 'her', 'hers', \"can't\", 'himself', 'r', \"she'd\", 'too', \"they'd\", 'because', 'you', 'was', \"you've\", 'all', \"that's\", \"she'll\", 'to', 'herself', \"shouldn't\", 'few', 'him', 'should', 'have', 'he', 'his', \"here's\", 'its', 'me', 'own', 'their', \"they've\", 'a', 'out', 'why', \"didn't\", 'does', 'for', 'here', 'both', 'yourselves', 'most', 'then', 'down', 'from', \"she's\", \"they'll\", 'is', 'where', 'your', 'be', \"hasn't\", \"who's\", 'my', \"they're\", 'until', \"won't\", 'what', 'otherwise', 'whom'}\n"
          ],
          "name": "stdout"
        }
      ]
    },
    {
      "cell_type": "code",
      "metadata": {
        "id": "UtMOaeBgNIie",
        "colab_type": "code",
        "colab": {}
      },
      "source": [
        "def preprocess_text(sentance):\n",
        "  sentance=str(sentance).lower()\n",
        "  sentance=re.sub('[^A-Za-z0-9]+', ' ', sentance)\n",
        "  porter = PorterStemmer()\n",
        "  sentance=porter.stem(sentance)\n",
        "  sent = ' '.join(e for e in sentance.split() if e.lower() not in STOPWORDS)\n",
        "  return sent.strip()"
      ],
      "execution_count": 0,
      "outputs": []
    },
    {
      "cell_type": "code",
      "metadata": {
        "id": "bIpq9i3XNKMQ",
        "colab_type": "code",
        "colab": {}
      },
      "source": [
        "df['description']=df['description'].apply(preprocess_text)"
      ],
      "execution_count": 0,
      "outputs": []
    },
    {
      "cell_type": "code",
      "metadata": {
        "id": "UFidG1fOTK5y",
        "colab_type": "code",
        "outputId": "8c1eb6db-88e2-41e0-8524-153fe0887b25",
        "colab": {
          "base_uri": "https://localhost:8080/",
          "height": 589
        }
      },
      "source": [
        "df"
      ],
      "execution_count": 20,
      "outputs": [
        {
          "output_type": "execute_result",
          "data": {
            "text/html": [
              "<div>\n",
              "<style scoped>\n",
              "    .dataframe tbody tr th:only-of-type {\n",
              "        vertical-align: middle;\n",
              "    }\n",
              "\n",
              "    .dataframe tbody tr th {\n",
              "        vertical-align: top;\n",
              "    }\n",
              "\n",
              "    .dataframe thead th {\n",
              "        text-align: right;\n",
              "    }\n",
              "</style>\n",
              "<table border=\"1\" class=\"dataframe\">\n",
              "  <thead>\n",
              "    <tr style=\"text-align: right;\">\n",
              "      <th></th>\n",
              "      <th>sentiments</th>\n",
              "      <th>description</th>\n",
              "      <th>des_length</th>\n",
              "      <th>word_count</th>\n",
              "      <th>unique_words</th>\n",
              "      <th>Unique_word_ratio</th>\n",
              "    </tr>\n",
              "  </thead>\n",
              "  <tbody>\n",
              "    <tr>\n",
              "      <th>0</th>\n",
              "      <td>neutral</td>\n",
              "      <td>according gran company plans move production r...</td>\n",
              "      <td>127</td>\n",
              "      <td>25</td>\n",
              "      <td>19</td>\n",
              "      <td>0.760000</td>\n",
              "    </tr>\n",
              "    <tr>\n",
              "      <th>1</th>\n",
              "      <td>neutral</td>\n",
              "      <td>technopolis plans develop stages area less 100...</td>\n",
              "      <td>190</td>\n",
              "      <td>31</td>\n",
              "      <td>28</td>\n",
              "      <td>0.903226</td>\n",
              "    </tr>\n",
              "    <tr>\n",
              "      <th>2</th>\n",
              "      <td>negative</td>\n",
              "      <td>international electronic industry company elco...</td>\n",
              "      <td>228</td>\n",
              "      <td>36</td>\n",
              "      <td>31</td>\n",
              "      <td>0.833333</td>\n",
              "    </tr>\n",
              "    <tr>\n",
              "      <th>3</th>\n",
              "      <td>positive</td>\n",
              "      <td>new production plant company increase capacity...</td>\n",
              "      <td>206</td>\n",
              "      <td>33</td>\n",
              "      <td>24</td>\n",
              "      <td>0.727273</td>\n",
              "    </tr>\n",
              "    <tr>\n",
              "      <th>4</th>\n",
              "      <td>positive</td>\n",
              "      <td>according company s updated strategy years 200...</td>\n",
              "      <td>203</td>\n",
              "      <td>41</td>\n",
              "      <td>32</td>\n",
              "      <td>0.780488</td>\n",
              "    </tr>\n",
              "    <tr>\n",
              "      <th>...</th>\n",
              "      <td>...</td>\n",
              "      <td>...</td>\n",
              "      <td>...</td>\n",
              "      <td>...</td>\n",
              "      <td>...</td>\n",
              "      <td>...</td>\n",
              "    </tr>\n",
              "    <tr>\n",
              "      <th>4841</th>\n",
              "      <td>negative</td>\n",
              "      <td>london marketwatch share prices ended lower lo...</td>\n",
              "      <td>144</td>\n",
              "      <td>26</td>\n",
              "      <td>25</td>\n",
              "      <td>0.923077</td>\n",
              "    </tr>\n",
              "    <tr>\n",
              "      <th>4842</th>\n",
              "      <td>neutral</td>\n",
              "      <td>rinkuskiai s beer sales fell 6 5 per cent 4 16...</td>\n",
              "      <td>148</td>\n",
              "      <td>30</td>\n",
              "      <td>22</td>\n",
              "      <td>0.733333</td>\n",
              "    </tr>\n",
              "    <tr>\n",
              "      <th>4843</th>\n",
              "      <td>negative</td>\n",
              "      <td>operating profit fell eur 35 4 mn eur 68 8 mn ...</td>\n",
              "      <td>108</td>\n",
              "      <td>23</td>\n",
              "      <td>19</td>\n",
              "      <td>0.826087</td>\n",
              "    </tr>\n",
              "    <tr>\n",
              "      <th>4844</th>\n",
              "      <td>negative</td>\n",
              "      <td>net sales paper segment decreased eur 221 6 mn...</td>\n",
              "      <td>226</td>\n",
              "      <td>44</td>\n",
              "      <td>29</td>\n",
              "      <td>0.659091</td>\n",
              "    </tr>\n",
              "    <tr>\n",
              "      <th>4845</th>\n",
              "      <td>negative</td>\n",
              "      <td>sales finland decreased 10 5 january sales out...</td>\n",
              "      <td>95</td>\n",
              "      <td>19</td>\n",
              "      <td>15</td>\n",
              "      <td>0.736842</td>\n",
              "    </tr>\n",
              "  </tbody>\n",
              "</table>\n",
              "<p>4846 rows × 6 columns</p>\n",
              "</div>"
            ],
            "text/plain": [
              "     sentiments  ... Unique_word_ratio\n",
              "0       neutral  ...          0.760000\n",
              "1       neutral  ...          0.903226\n",
              "2      negative  ...          0.833333\n",
              "3      positive  ...          0.727273\n",
              "4      positive  ...          0.780488\n",
              "...         ...  ...               ...\n",
              "4841   negative  ...          0.923077\n",
              "4842    neutral  ...          0.733333\n",
              "4843   negative  ...          0.826087\n",
              "4844   negative  ...          0.659091\n",
              "4845   negative  ...          0.736842\n",
              "\n",
              "[4846 rows x 6 columns]"
            ]
          },
          "metadata": {
            "tags": []
          },
          "execution_count": 20
        }
      ]
    },
    {
      "cell_type": "code",
      "metadata": {
        "id": "Xrlx8C-qLSnq",
        "colab_type": "code",
        "colab": {}
      },
      "source": [
        ""
      ],
      "execution_count": 0,
      "outputs": []
    },
    {
      "cell_type": "code",
      "metadata": {
        "id": "N9czaB_MWLUu",
        "colab_type": "code",
        "colab": {}
      },
      "source": [
        ""
      ],
      "execution_count": 0,
      "outputs": []
    },
    {
      "cell_type": "code",
      "metadata": {
        "id": "dp3t651IJ28w",
        "colab_type": "code",
        "outputId": "f7fa3a83-47f6-40de-a437-753a356861c7",
        "colab": {
          "base_uri": "https://localhost:8080/",
          "height": 136
        }
      },
      "source": [
        "df.dtypes"
      ],
      "execution_count": 21,
      "outputs": [
        {
          "output_type": "execute_result",
          "data": {
            "text/plain": [
              "sentiments            object\n",
              "description           object\n",
              "des_length             int64\n",
              "word_count             int64\n",
              "unique_words           int64\n",
              "Unique_word_ratio    float64\n",
              "dtype: object"
            ]
          },
          "metadata": {
            "tags": []
          },
          "execution_count": 21
        }
      ]
    },
    {
      "cell_type": "code",
      "metadata": {
        "id": "hzTJukO7ssvZ",
        "colab_type": "code",
        "outputId": "e8466b4e-4c38-4c00-b1d2-c0d1c8ba4617",
        "colab": {
          "base_uri": "https://localhost:8080/",
          "height": 552
        }
      },
      "source": [
        "import matplotlib.pyplot as plt\n",
        "import seaborn as sns\n",
        "plt.figure(figsize=(12, 8))\n",
        "\n",
        "plt.subplot(1,2,1)\n",
        "sns.violinplot(x = 'sentiments', y = 'des_length', data = df[0:])\n",
        "\n",
        "plt.subplot(1,2,2)\n",
        "sns.distplot(df[df['sentiments'] == 'positive']['des_length'][0:] , label = \"positive\", color = 'red')\n",
        "sns.distplot(df[df['sentiments'] == 'neutral']['des_length'][0:] , label = \"neutral\" , color = 'blue' )\n",
        "sns.distplot(df[df['sentiments'] == 'negative']['des_length'][0:] , label = \"negative\" , color = 'green' )\n",
        "\n",
        "plt.show()"
      ],
      "execution_count": 22,
      "outputs": [
        {
          "output_type": "stream",
          "text": [
            "/usr/local/lib/python3.6/dist-packages/statsmodels/tools/_testing.py:19: FutureWarning: pandas.util.testing is deprecated. Use the functions in the public API at pandas.testing instead.\n",
            "  import pandas.util.testing as tm\n"
          ],
          "name": "stderr"
        },
        {
          "output_type": "display_data",
          "data": {
            "image/png": "[encoded data removed]",
            "text/plain": [
              "<Figure size 864x576 with 2 Axes>"
            ]
          },
          "metadata": {
            "tags": [],
            "needs_background": "light"
          }
        }
      ]
    },
    {
      "cell_type": "code",
      "metadata": {
        "id": "mFy9M4-yuQ9m",
        "colab_type": "code",
        "outputId": "2737665d-577d-4925-ecb9-1cf6f1086117",
        "colab": {
          "base_uri": "https://localhost:8080/",
          "height": 498
        }
      },
      "source": [
        "#import matplotlib.pyplot as plt\n",
        "#import seaborn as sns\n",
        "plt.figure(figsize=(12, 8))\n",
        "\n",
        "plt.subplot(1,2,1)\n",
        "sns.violinplot(x = 'sentiments', y = 'word_count', data = df[0:])\n",
        "\n",
        "plt.subplot(1,2,2)\n",
        "sns.distplot(df[df['sentiments'] == 'positive']['word_count'][0:] , label = \"positive\", color = 'red')\n",
        "sns.distplot(df[df['sentiments'] == 'neutral']['word_count'][0:] , label = \"neutral\" , color = 'blue' )\n",
        "sns.distplot(df[df['sentiments'] == 'negative']['word_count'][0:] , label = \"negative\" , color = 'green' )\n",
        "\n",
        "plt.show()"
      ],
      "execution_count": 23,
      "outputs": [
        {
          "output_type": "display_data",
          "data": {
            "image/png": "[encoded data removed]",
            "text/plain": [
              "<Figure size 864x576 with 2 Axes>"
            ]
          },
          "metadata": {
            "tags": [],
            "needs_background": "light"
          }
        }
      ]
    },
    {
      "cell_type": "code",
      "metadata": {
        "id": "0fGzfEytuqV4",
        "colab_type": "code",
        "outputId": "d47ff126-8178-4070-efa0-a40f1988e29e",
        "colab": {
          "base_uri": "https://localhost:8080/"
        }
      },
      "source": [
        "plt.figure(figsize=(12, 8))\n",
        "\n",
        "plt.subplot(1,2,1)\n",
        "sns.violinplot(x = 'sentiments', y = 'Unique_word_ratio', data = df[0:])\n",
        "\n",
        "plt.subplot(1,2,2)\n",
        "sns.distplot(df[df['sentiments'] == 'positive']['Unique_word_ratio'][0:] , label = \"positive\", color = 'red')\n",
        "sns.distplot(df[df['sentiments'] == 'neutral']['Unique_word_ratio'][0:] , label = \"neutral\" , color = 'blue' )\n",
        "sns.distplot(df[df['sentiments'] == 'negative']['Unique_word_ratio'][0:] , label = \"negative\" , color = 'green' )\n",
        "\n",
        "plt.show()"
      ],
      "execution_count": 24,
      "outputs": [
        {
          "output_type": "display_data",
          "data": {
            "image/png": "[encoded data removed]",
            "text/plain": [
              "<Figure size 864x576 with 2 Axes>"
            ]
          },
          "metadata": {
            "tags": [],
            "needs_background": "light"
          }
        }
      ]
    },
    {
      "cell_type": "markdown",
      "metadata": {
        "id": "vIgvetqqIwIj",
        "colab_type": "text"
      },
      "source": [
        "# Train Test split"
      ]
    },
    {
      "cell_type": "code",
      "metadata": {
        "id": "fZcvl3QQbpx2",
        "colab_type": "code",
        "colab": {}
      },
      "source": [
        "df['sentiments']=df['sentiments'].map({'positive':1,'negative':0,'neutral':2})"
      ],
      "execution_count": 0,
      "outputs": []
    },
    {
      "cell_type": "code",
      "metadata": {
        "id": "JqrwVzV1b64N",
        "colab_type": "code",
        "outputId": "db0e13aa-d67a-43d6-9cc7-8ca56b819762",
        "colab": {
          "base_uri": "https://localhost:8080/",
          "height": 289
        }
      },
      "source": [
        "df.head()"
      ],
      "execution_count": 26,
      "outputs": [
        {
          "output_type": "execute_result",
          "data": {
            "text/html": [
              "<div>\n",
              "<style scoped>\n",
              "    .dataframe tbody tr th:only-of-type {\n",
              "        vertical-align: middle;\n",
              "    }\n",
              "\n",
              "    .dataframe tbody tr th {\n",
              "        vertical-align: top;\n",
              "    }\n",
              "\n",
              "    .dataframe thead th {\n",
              "        text-align: right;\n",
              "    }\n",
              "</style>\n",
              "<table border=\"1\" class=\"dataframe\">\n",
              "  <thead>\n",
              "    <tr style=\"text-align: right;\">\n",
              "      <th></th>\n",
              "      <th>sentiments</th>\n",
              "      <th>description</th>\n",
              "      <th>des_length</th>\n",
              "      <th>word_count</th>\n",
              "      <th>unique_words</th>\n",
              "      <th>Unique_word_ratio</th>\n",
              "    </tr>\n",
              "  </thead>\n",
              "  <tbody>\n",
              "    <tr>\n",
              "      <th>0</th>\n",
              "      <td>2</td>\n",
              "      <td>according gran company plans move production r...</td>\n",
              "      <td>127</td>\n",
              "      <td>25</td>\n",
              "      <td>19</td>\n",
              "      <td>0.760000</td>\n",
              "    </tr>\n",
              "    <tr>\n",
              "      <th>1</th>\n",
              "      <td>2</td>\n",
              "      <td>technopolis plans develop stages area less 100...</td>\n",
              "      <td>190</td>\n",
              "      <td>31</td>\n",
              "      <td>28</td>\n",
              "      <td>0.903226</td>\n",
              "    </tr>\n",
              "    <tr>\n",
              "      <th>2</th>\n",
              "      <td>0</td>\n",
              "      <td>international electronic industry company elco...</td>\n",
              "      <td>228</td>\n",
              "      <td>36</td>\n",
              "      <td>31</td>\n",
              "      <td>0.833333</td>\n",
              "    </tr>\n",
              "    <tr>\n",
              "      <th>3</th>\n",
              "      <td>1</td>\n",
              "      <td>new production plant company increase capacity...</td>\n",
              "      <td>206</td>\n",
              "      <td>33</td>\n",
              "      <td>24</td>\n",
              "      <td>0.727273</td>\n",
              "    </tr>\n",
              "    <tr>\n",
              "      <th>4</th>\n",
              "      <td>1</td>\n",
              "      <td>according company s updated strategy years 200...</td>\n",
              "      <td>203</td>\n",
              "      <td>41</td>\n",
              "      <td>32</td>\n",
              "      <td>0.780488</td>\n",
              "    </tr>\n",
              "  </tbody>\n",
              "</table>\n",
              "</div>"
            ],
            "text/plain": [
              "   sentiments  ... Unique_word_ratio\n",
              "0           2  ...          0.760000\n",
              "1           2  ...          0.903226\n",
              "2           0  ...          0.833333\n",
              "3           1  ...          0.727273\n",
              "4           1  ...          0.780488\n",
              "\n",
              "[5 rows x 6 columns]"
            ]
          },
          "metadata": {
            "tags": []
          },
          "execution_count": 26
        }
      ]
    },
    {
      "cell_type": "code",
      "metadata": {
        "id": "1gmq1XYMcFiB",
        "colab_type": "code",
        "outputId": "c6af88f4-bd61-4167-c73a-c06016d314f4",
        "colab": {
          "base_uri": "https://localhost:8080/",
          "height": 204
        }
      },
      "source": [
        "df.corr()\n",
        "#we can see Unique word ratio is little correalted "
      ],
      "execution_count": 27,
      "outputs": [
        {
          "output_type": "execute_result",
          "data": {
            "text/html": [
              "<div>\n",
              "<style scoped>\n",
              "    .dataframe tbody tr th:only-of-type {\n",
              "        vertical-align: middle;\n",
              "    }\n",
              "\n",
              "    .dataframe tbody tr th {\n",
              "        vertical-align: top;\n",
              "    }\n",
              "\n",
              "    .dataframe thead th {\n",
              "        text-align: right;\n",
              "    }\n",
              "</style>\n",
              "<table border=\"1\" class=\"dataframe\">\n",
              "  <thead>\n",
              "    <tr style=\"text-align: right;\">\n",
              "      <th></th>\n",
              "      <th>sentiments</th>\n",
              "      <th>des_length</th>\n",
              "      <th>word_count</th>\n",
              "      <th>unique_words</th>\n",
              "      <th>Unique_word_ratio</th>\n",
              "    </tr>\n",
              "  </thead>\n",
              "  <tbody>\n",
              "    <tr>\n",
              "      <th>sentiments</th>\n",
              "      <td>1.000000</td>\n",
              "      <td>-0.038140</td>\n",
              "      <td>-0.093165</td>\n",
              "      <td>-0.095071</td>\n",
              "      <td>0.044838</td>\n",
              "    </tr>\n",
              "    <tr>\n",
              "      <th>des_length</th>\n",
              "      <td>-0.038140</td>\n",
              "      <td>1.000000</td>\n",
              "      <td>0.958270</td>\n",
              "      <td>0.944283</td>\n",
              "      <td>-0.559290</td>\n",
              "    </tr>\n",
              "    <tr>\n",
              "      <th>word_count</th>\n",
              "      <td>-0.093165</td>\n",
              "      <td>0.958270</td>\n",
              "      <td>1.000000</td>\n",
              "      <td>0.972438</td>\n",
              "      <td>-0.614546</td>\n",
              "    </tr>\n",
              "    <tr>\n",
              "      <th>unique_words</th>\n",
              "      <td>-0.095071</td>\n",
              "      <td>0.944283</td>\n",
              "      <td>0.972438</td>\n",
              "      <td>1.000000</td>\n",
              "      <td>-0.447367</td>\n",
              "    </tr>\n",
              "    <tr>\n",
              "      <th>Unique_word_ratio</th>\n",
              "      <td>0.044838</td>\n",
              "      <td>-0.559290</td>\n",
              "      <td>-0.614546</td>\n",
              "      <td>-0.447367</td>\n",
              "      <td>1.000000</td>\n",
              "    </tr>\n",
              "  </tbody>\n",
              "</table>\n",
              "</div>"
            ],
            "text/plain": [
              "                   sentiments  des_length  ...  unique_words  Unique_word_ratio\n",
              "sentiments           1.000000   -0.038140  ...     -0.095071           0.044838\n",
              "des_length          -0.038140    1.000000  ...      0.944283          -0.559290\n",
              "word_count          -0.093165    0.958270  ...      0.972438          -0.614546\n",
              "unique_words        -0.095071    0.944283  ...      1.000000          -0.447367\n",
              "Unique_word_ratio    0.044838   -0.559290  ...     -0.447367           1.000000\n",
              "\n",
              "[5 rows x 5 columns]"
            ]
          },
          "metadata": {
            "tags": []
          },
          "execution_count": 27
        }
      ]
    },
    {
      "cell_type": "code",
      "metadata": {
        "id": "0YwJ-JUqWWw5",
        "colab_type": "code",
        "outputId": "ac08befd-e0f4-479a-eb60-e475d009c6d5",
        "colab": {
          "base_uri": "https://localhost:8080/",
          "height": 221
        }
      },
      "source": [
        "Y=df['sentiments']\n",
        "Y"
      ],
      "execution_count": 28,
      "outputs": [
        {
          "output_type": "execute_result",
          "data": {
            "text/plain": [
              "0       2\n",
              "1       2\n",
              "2       0\n",
              "3       1\n",
              "4       1\n",
              "       ..\n",
              "4841    0\n",
              "4842    2\n",
              "4843    0\n",
              "4844    0\n",
              "4845    0\n",
              "Name: sentiments, Length: 4846, dtype: int64"
            ]
          },
          "metadata": {
            "tags": []
          },
          "execution_count": 28
        }
      ]
    },
    {
      "cell_type": "code",
      "metadata": {
        "id": "f_USbkgSZfp1",
        "colab_type": "code",
        "colab": {}
      },
      "source": [
        "X=df[['description']]"
      ],
      "execution_count": 0,
      "outputs": []
    },
    {
      "cell_type": "code",
      "metadata": {
        "id": "SpSybR1WaZXJ",
        "colab_type": "code",
        "outputId": "c0313722-f5ee-4e71-bf86-1533721507e9",
        "colab": {
          "base_uri": "https://localhost:8080/",
          "height": 419
        }
      },
      "source": [
        "X"
      ],
      "execution_count": 30,
      "outputs": [
        {
          "output_type": "execute_result",
          "data": {
            "text/html": [
              "<div>\n",
              "<style scoped>\n",
              "    .dataframe tbody tr th:only-of-type {\n",
              "        vertical-align: middle;\n",
              "    }\n",
              "\n",
              "    .dataframe tbody tr th {\n",
              "        vertical-align: top;\n",
              "    }\n",
              "\n",
              "    .dataframe thead th {\n",
              "        text-align: right;\n",
              "    }\n",
              "</style>\n",
              "<table border=\"1\" class=\"dataframe\">\n",
              "  <thead>\n",
              "    <tr style=\"text-align: right;\">\n",
              "      <th></th>\n",
              "      <th>description</th>\n",
              "    </tr>\n",
              "  </thead>\n",
              "  <tbody>\n",
              "    <tr>\n",
              "      <th>0</th>\n",
              "      <td>according gran company plans move production r...</td>\n",
              "    </tr>\n",
              "    <tr>\n",
              "      <th>1</th>\n",
              "      <td>technopolis plans develop stages area less 100...</td>\n",
              "    </tr>\n",
              "    <tr>\n",
              "      <th>2</th>\n",
              "      <td>international electronic industry company elco...</td>\n",
              "    </tr>\n",
              "    <tr>\n",
              "      <th>3</th>\n",
              "      <td>new production plant company increase capacity...</td>\n",
              "    </tr>\n",
              "    <tr>\n",
              "      <th>4</th>\n",
              "      <td>according company s updated strategy years 200...</td>\n",
              "    </tr>\n",
              "    <tr>\n",
              "      <th>...</th>\n",
              "      <td>...</td>\n",
              "    </tr>\n",
              "    <tr>\n",
              "      <th>4841</th>\n",
              "      <td>london marketwatch share prices ended lower lo...</td>\n",
              "    </tr>\n",
              "    <tr>\n",
              "      <th>4842</th>\n",
              "      <td>rinkuskiai s beer sales fell 6 5 per cent 4 16...</td>\n",
              "    </tr>\n",
              "    <tr>\n",
              "      <th>4843</th>\n",
              "      <td>operating profit fell eur 35 4 mn eur 68 8 mn ...</td>\n",
              "    </tr>\n",
              "    <tr>\n",
              "      <th>4844</th>\n",
              "      <td>net sales paper segment decreased eur 221 6 mn...</td>\n",
              "    </tr>\n",
              "    <tr>\n",
              "      <th>4845</th>\n",
              "      <td>sales finland decreased 10 5 january sales out...</td>\n",
              "    </tr>\n",
              "  </tbody>\n",
              "</table>\n",
              "<p>4846 rows × 1 columns</p>\n",
              "</div>"
            ],
            "text/plain": [
              "                                            description\n",
              "0     according gran company plans move production r...\n",
              "1     technopolis plans develop stages area less 100...\n",
              "2     international electronic industry company elco...\n",
              "3     new production plant company increase capacity...\n",
              "4     according company s updated strategy years 200...\n",
              "...                                                 ...\n",
              "4841  london marketwatch share prices ended lower lo...\n",
              "4842  rinkuskiai s beer sales fell 6 5 per cent 4 16...\n",
              "4843  operating profit fell eur 35 4 mn eur 68 8 mn ...\n",
              "4844  net sales paper segment decreased eur 221 6 mn...\n",
              "4845  sales finland decreased 10 5 january sales out...\n",
              "\n",
              "[4846 rows x 1 columns]"
            ]
          },
          "metadata": {
            "tags": []
          },
          "execution_count": 30
        }
      ]
    },
    {
      "cell_type": "code",
      "metadata": {
        "id": "WSnGx45GEzMW",
        "colab_type": "code",
        "outputId": "d7905f6d-d25a-4861-e01b-5bd4f8d63f4b",
        "colab": {
          "base_uri": "https://localhost:8080/",
          "height": 85
        }
      },
      "source": [
        "from sklearn.model_selection import train_test_split\n",
        "X_train, X_test, y_train, y_test = train_test_split(X, Y, test_size=0.20,stratify=Y)\n",
        "print('X_train shape: ',X_train.shape)\n",
        "print('X_test shape',X_test.shape)\n",
        "print('y_train shape', y_train.shape)\n",
        "print('y_train shape', y_test.shape)\n"
      ],
      "execution_count": 31,
      "outputs": [
        {
          "output_type": "stream",
          "text": [
            "X_train shape:  (3876, 1)\n",
            "X_test shape (970, 1)\n",
            "y_train shape (3876,)\n",
            "y_train shape (970,)\n"
          ],
          "name": "stdout"
        }
      ]
    },
    {
      "cell_type": "code",
      "metadata": {
        "id": "SZMoGNIJEzHl",
        "colab_type": "code",
        "outputId": "6a1d2c84-201b-4501-8fc8-7faffba872d4",
        "colab": {
          "base_uri": "https://localhost:8080/",
          "height": 204
        }
      },
      "source": [
        "X_train.head()"
      ],
      "execution_count": 32,
      "outputs": [
        {
          "output_type": "execute_result",
          "data": {
            "text/html": [
              "<div>\n",
              "<style scoped>\n",
              "    .dataframe tbody tr th:only-of-type {\n",
              "        vertical-align: middle;\n",
              "    }\n",
              "\n",
              "    .dataframe tbody tr th {\n",
              "        vertical-align: top;\n",
              "    }\n",
              "\n",
              "    .dataframe thead th {\n",
              "        text-align: right;\n",
              "    }\n",
              "</style>\n",
              "<table border=\"1\" class=\"dataframe\">\n",
              "  <thead>\n",
              "    <tr style=\"text-align: right;\">\n",
              "      <th></th>\n",
              "      <th>description</th>\n",
              "    </tr>\n",
              "  </thead>\n",
              "  <tbody>\n",
              "    <tr>\n",
              "      <th>1372</th>\n",
              "      <td>desk will reach full planned strength ten pers...</td>\n",
              "    </tr>\n",
              "    <tr>\n",
              "      <th>701</th>\n",
              "      <td>current year raute expects net sales increase ...</td>\n",
              "    </tr>\n",
              "    <tr>\n",
              "      <th>4173</th>\n",
              "      <td>antti orkola president kemira growhow s indust...</td>\n",
              "    </tr>\n",
              "    <tr>\n",
              "      <th>3541</th>\n",
              "      <td>based 2005 calendar year combined company eur1...</td>\n",
              "    </tr>\n",
              "    <tr>\n",
              "      <th>2572</th>\n",
              "      <td>stora enso global paper packaging wood product...</td>\n",
              "    </tr>\n",
              "  </tbody>\n",
              "</table>\n",
              "</div>"
            ],
            "text/plain": [
              "                                            description\n",
              "1372  desk will reach full planned strength ten pers...\n",
              "701   current year raute expects net sales increase ...\n",
              "4173  antti orkola president kemira growhow s indust...\n",
              "3541  based 2005 calendar year combined company eur1...\n",
              "2572  stora enso global paper packaging wood product..."
            ]
          },
          "metadata": {
            "tags": []
          },
          "execution_count": 32
        }
      ]
    },
    {
      "cell_type": "code",
      "metadata": {
        "id": "5tmcYPJFEy4J",
        "colab_type": "code",
        "colab": {}
      },
      "source": [
        ""
      ],
      "execution_count": 0,
      "outputs": []
    },
    {
      "cell_type": "markdown",
      "metadata": {
        "id": "tBV8ZjJx4s_M",
        "colab_type": "text"
      },
      "source": [
        "# Preprocessing of Text\n",
        "*  Using TFIDF"
      ]
    },
    {
      "cell_type": "code",
      "metadata": {
        "id": "tlExyHGRu7dS",
        "colab_type": "code",
        "outputId": "4f53c663-7b26-45ae-d3a9-700fc71efd34",
        "colab": {
          "base_uri": "https://localhost:8080/",
          "height": 68
        }
      },
      "source": [
        "from sklearn.feature_extraction.text import TfidfVectorizer\n",
        "vectorizer_tfidf = TfidfVectorizer(min_df=10,ngram_range=(1,2))\n",
        "vectorizer_tfidf.fit(X_train['description'])\n",
        "X_train_tfidf = vectorizer_tfidf.transform(X_train['description'].values)\n",
        "X_test_tfidf= vectorizer_tfidf.transform(X_test['description'].values)\n",
        "print(\"Shape of train data matrix after one hot encoding \")\n",
        "print(X_train_tfidf.shape,y_train.shape)\n",
        "print(X_test_tfidf.shape,y_train.shape)"
      ],
      "execution_count": 902,
      "outputs": [
        {
          "output_type": "stream",
          "text": [
            "Shape of train data matrix after one hot encoding \n",
            "(3876, 1185) (3876,)\n",
            "(970, 1185) (3876,)\n"
          ],
          "name": "stdout"
        }
      ]
    },
    {
      "cell_type": "code",
      "metadata": {
        "id": "2u00eqQzXisU",
        "colab_type": "code",
        "colab": {
          "base_uri": "https://localhost:8080/",
          "height": 34
        },
        "outputId": "da7f1aac-389f-4b61-cfcb-4bd4a39a479f"
      },
      "source": [
        "from sklearn.feature_extraction.text import CountVectorizer\n",
        "count_vec = CountVectorizer(ngram_range=(1,2),min_df=10)\n",
        "X_train_count = count_vec.fit_transform(X_train['description'].values)\n",
        "X_test_count = count_vec.transform(X_test['description'].values)\n",
        "X_train_count.shape, X_test_count.shape"
      ],
      "execution_count": 929,
      "outputs": [
        {
          "output_type": "execute_result",
          "data": {
            "text/plain": [
              "((3876, 1185), (970, 1185))"
            ]
          },
          "metadata": {
            "tags": []
          },
          "execution_count": 929
        }
      ]
    },
    {
      "cell_type": "code",
      "metadata": {
        "id": "U2yT6NKtZf1b",
        "colab_type": "code",
        "colab": {
          "base_uri": "https://localhost:8080/",
          "height": 51
        },
        "outputId": "c792e3ee-252c-46f0-bb5d-459a48010e6c"
      },
      "source": [
        "X_train_count"
      ],
      "execution_count": 679,
      "outputs": [
        {
          "output_type": "execute_result",
          "data": {
            "text/plain": [
              "<3876x993 sparse matrix of type '<class 'numpy.int64'>'\n",
              "\twith 32391 stored elements in Compressed Sparse Row format>"
            ]
          },
          "metadata": {
            "tags": []
          },
          "execution_count": 679
        }
      ]
    },
    {
      "cell_type": "code",
      "metadata": {
        "id": "yhkahfIQY-sA",
        "colab_type": "code",
        "colab": {}
      },
      "source": [
        ""
      ],
      "execution_count": 0,
      "outputs": []
    },
    {
      "cell_type": "markdown",
      "metadata": {
        "id": "5nwXPK7PgGtr",
        "colab_type": "text"
      },
      "source": [
        "* Save in pickle file"
      ]
    },
    {
      "cell_type": "code",
      "metadata": {
        "id": "ZKZv_Vxf5KUd",
        "colab_type": "code",
        "colab": {}
      },
      "source": [
        "import pickle"
      ],
      "execution_count": 0,
      "outputs": []
    },
    {
      "cell_type": "code",
      "metadata": {
        "id": "16Ci5iTWgQwj",
        "colab_type": "code",
        "colab": {}
      },
      "source": [
        "with open('X_train_tfidf.pickle', 'wb') as f:\n",
        "  pickle.dump([X_train_tfidf, y_train], f)\n",
        "\n",
        "with open('X_test_tfidf.pickle', 'wb') as f:\n",
        "  pickle.dump([X_test_tfidf, y_test], f)\n",
        "\n",
        "with open('X_train_count.pickle', 'wb') as f:\n",
        "  pickle.dump([X_train_count, y_train], f)\n",
        "\n",
        "with open('X_test_count.pickle', 'wb') as f:\n",
        "  pickle.dump([X_test_count, y_test], f)\n"
      ],
      "execution_count": 0,
      "outputs": []
    },
    {
      "cell_type": "markdown",
      "metadata": {
        "id": "PVTp1Hl85PW6",
        "colab_type": "text"
      },
      "source": [
        "## Load train and test data from pickle file"
      ]
    },
    {
      "cell_type": "code",
      "metadata": {
        "id": "KzetlWNw5O8A",
        "colab_type": "code",
        "outputId": "425739bb-3656-459f-b1f7-2b5c46ab481c",
        "colab": {
          "base_uri": "https://localhost:8080/",
          "height": 51
        }
      },
      "source": [
        "#load train data from train.pickel\n",
        "import pickle\n",
        "with open('/content/drive/My Drive/X_train_tfidf.pickle','rb') as f:\n",
        "  X_train_tfidf, y_train = pickle.load(f)\n",
        "print(X_train_tfidf.shape, y_train.shape)\n",
        "print(type(X_train_tfidf))"
      ],
      "execution_count": 0,
      "outputs": [
        {
          "output_type": "stream",
          "text": [
            "(3246, 1055) (3246,)\n",
            "<class 'scipy.sparse.csr.csr_matrix'>\n"
          ],
          "name": "stdout"
        }
      ]
    },
    {
      "cell_type": "code",
      "metadata": {
        "id": "8a68ckFO6oJM",
        "colab_type": "code",
        "outputId": "7cbeef9e-bd92-4fec-f3db-38b50e0da4f3",
        "colab": {
          "base_uri": "https://localhost:8080/",
          "height": 51
        }
      },
      "source": [
        "#Load test data from test.pickel\n",
        "with open('/content/drive/My Drive/X_test_tfidf.pickle','rb') as f:\n",
        "  X_test_tfidf, y_test = pickle.load(f)\n",
        "print(X_test_tfidf.shape, y_test.shape)\n",
        "print(type(X_test_tfidf))"
      ],
      "execution_count": 0,
      "outputs": [
        {
          "output_type": "stream",
          "text": [
            "(1600, 1055) (1600,)\n",
            "<class 'scipy.sparse.csr.csr_matrix'>\n"
          ],
          "name": "stdout"
        }
      ]
    },
    {
      "cell_type": "markdown",
      "metadata": {
        "id": "xD1cVfINi9xC",
        "colab_type": "text"
      },
      "source": [
        "# Hyperparameter Tunning GridSearch"
      ]
    },
    {
      "cell_type": "markdown",
      "metadata": {
        "id": "UVhm54l4pr1A",
        "colab_type": "text"
      },
      "source": [
        "### Logistic regression on Count Vectorizer"
      ]
    },
    {
      "cell_type": "code",
      "metadata": {
        "id": "KcoK5q3u7JYL",
        "colab_type": "code",
        "colab": {}
      },
      "source": [
        "from sklearn.metrics import confusion_matrix\n",
        "from sklearn.metrics import accuracy_score\n",
        "from sklearn.metrics import classification_report"
      ],
      "execution_count": 0,
      "outputs": []
    },
    {
      "cell_type": "code",
      "metadata": {
        "id": "khIaNg2VhEGA",
        "colab_type": "code",
        "colab": {}
      },
      "source": [
        "from sklearn.model_selection import GridSearchCV\n",
        "from sklearn.linear_model import LogisticRegression"
      ],
      "execution_count": 0,
      "outputs": []
    },
    {
      "cell_type": "code",
      "metadata": {
        "id": "sa6-Gn0bjL0e",
        "colab_type": "code",
        "outputId": "d6bac10c-d3cd-4277-e2e5-1efc720b2e1a",
        "colab": {
          "base_uri": "https://localhost:8080/",
          "height": 238
        }
      },
      "source": [
        "parameters = {'C': [10**-4, 10**-3, 10**-2, 10**-1, 10**0]}\n",
        "LG = LogisticRegression(class_weight='balanced')\n",
        "classif = GridSearchCV(LG, parameters, cv=5,return_train_score=True)\n",
        "classif.fit(X_train_count,y_train)\n",
        "#print(LG.score(X_test_tfidf,y_test))\n",
        "#print(LG.score(X_train_tfidf,y_train))"
      ],
      "execution_count": 917,
      "outputs": [
        {
          "output_type": "execute_result",
          "data": {
            "text/plain": [
              "GridSearchCV(cv=5, error_score=nan,\n",
              "             estimator=LogisticRegression(C=1.0, class_weight='balanced',\n",
              "                                          dual=False, fit_intercept=True,\n",
              "                                          intercept_scaling=1, l1_ratio=None,\n",
              "                                          max_iter=100, multi_class='auto',\n",
              "                                          n_jobs=None, penalty='l2',\n",
              "                                          random_state=None, solver='lbfgs',\n",
              "                                          tol=0.0001, verbose=0,\n",
              "                                          warm_start=False),\n",
              "             iid='deprecated', n_jobs=None,\n",
              "             param_grid={'C': [0.0001, 0.001, 0.01, 0.1, 1]},\n",
              "             pre_dispatch='2*n_jobs', refit=True, return_train_score=True,\n",
              "             scoring=None, verbose=0)"
            ]
          },
          "metadata": {
            "tags": []
          },
          "execution_count": 917
        }
      ]
    },
    {
      "cell_type": "code",
      "metadata": {
        "id": "ygo0WgGSkY36",
        "colab_type": "code",
        "outputId": "0431d18a-b1db-4022-972d-f9954f1a7735",
        "colab": {
          "base_uri": "https://localhost:8080/",
          "height": 34
        }
      },
      "source": [
        "print('Best params',classif.best_params_)"
      ],
      "execution_count": 918,
      "outputs": [
        {
          "output_type": "stream",
          "text": [
            "Best params {'C': 0.1}\n"
          ],
          "name": "stdout"
        }
      ]
    },
    {
      "cell_type": "code",
      "metadata": {
        "id": "FY6DCQmd5o2U",
        "colab_type": "code",
        "outputId": "9d141a34-4dda-46b5-8e7b-6471132639c2",
        "colab": {
          "base_uri": "https://localhost:8080/",
          "height": 34
        }
      },
      "source": [
        "print('Best score',classif.best_score_)"
      ],
      "execution_count": 919,
      "outputs": [
        {
          "output_type": "stream",
          "text": [
            "Best score 0.7244632524110409\n"
          ],
          "name": "stdout"
        }
      ]
    },
    {
      "cell_type": "code",
      "metadata": {
        "id": "qNlBKhdQpZDp",
        "colab_type": "code",
        "outputId": "11d51cd3-df38-49b2-d579-82a4674ba8ad",
        "colab": {
          "base_uri": "https://localhost:8080/",
          "height": 85
        }
      },
      "source": [
        "y_pred=classif.predict(X_test_count)\n",
        "print('Confusion matrix')\n",
        "confusion_matrix(y_test,y_pred)"
      ],
      "execution_count": 920,
      "outputs": [
        {
          "output_type": "stream",
          "text": [
            "Confusion matrix\n"
          ],
          "name": "stdout"
        },
        {
          "output_type": "execute_result",
          "data": {
            "text/plain": [
              "array([[ 74,  12,  35],\n",
              "       [ 27, 164,  82],\n",
              "       [ 36,  91, 449]])"
            ]
          },
          "metadata": {
            "tags": []
          },
          "execution_count": 920
        }
      ]
    },
    {
      "cell_type": "code",
      "metadata": {
        "id": "jIRd6kw_y3uT",
        "colab_type": "code",
        "outputId": "ef8a5887-4f6f-4430-d2cd-a994a5f00b75",
        "colab": {
          "base_uri": "https://localhost:8080/",
          "height": 34
        }
      },
      "source": [
        "print('Misclassified points =',(y_test != y_pred).sum())"
      ],
      "execution_count": 921,
      "outputs": [
        {
          "output_type": "stream",
          "text": [
            "Misclassified points = 283\n"
          ],
          "name": "stdout"
        }
      ]
    },
    {
      "cell_type": "code",
      "metadata": {
        "id": "P3Jllzk9Gb9q",
        "colab_type": "code",
        "outputId": "1632ed7d-2764-470b-f39c-f0cfa6faf3ac",
        "colab": {
          "base_uri": "https://localhost:8080/",
          "height": 51
        }
      },
      "source": [
        "print('Train Score',classif.score(X_train_count,y_train))\n",
        "print('Test Score',classif.score(X_test_count,y_test))"
      ],
      "execution_count": 930,
      "outputs": [
        {
          "output_type": "stream",
          "text": [
            "Train Score 0.8353973168214655\n",
            "Test Score 0.7082474226804124\n"
          ],
          "name": "stdout"
        }
      ]
    },
    {
      "cell_type": "code",
      "metadata": {
        "id": "GN7bJu9aQn7W",
        "colab_type": "code",
        "outputId": "7981db13-6ea0-43c8-a68e-31c70657b22b",
        "colab": {
          "base_uri": "https://localhost:8080/",
          "height": 187
        }
      },
      "source": [
        "c=classification_report(y_test,y_pred)\n",
        "print(c)"
      ],
      "execution_count": 931,
      "outputs": [
        {
          "output_type": "stream",
          "text": [
            "              precision    recall  f1-score   support\n",
            "\n",
            "           0       0.54      0.61      0.57       121\n",
            "           1       0.61      0.60      0.61       273\n",
            "           2       0.79      0.78      0.79       576\n",
            "\n",
            "    accuracy                           0.71       970\n",
            "   macro avg       0.65      0.66      0.66       970\n",
            "weighted avg       0.71      0.71      0.71       970\n",
            "\n"
          ],
          "name": "stdout"
        }
      ]
    },
    {
      "cell_type": "markdown",
      "metadata": {
        "id": "i-31uZQqpkd-",
        "colab_type": "text"
      },
      "source": [
        "## Logistic Regression TFIDF Features"
      ]
    },
    {
      "cell_type": "code",
      "metadata": {
        "id": "Au8_w_4HgjaR",
        "colab_type": "code",
        "colab": {
          "base_uri": "https://localhost:8080/",
          "height": 102
        },
        "outputId": "f7d71bde-4849-4b79-ffa1-0c34d4fe072d"
      },
      "source": [
        "LG=LogisticRegression(C=0.1,class_weight='balanced')\n",
        "LG.fit(X_train_tfidf,y_train)"
      ],
      "execution_count": 924,
      "outputs": [
        {
          "output_type": "execute_result",
          "data": {
            "text/plain": [
              "LogisticRegression(C=0.1, class_weight='balanced', dual=False,\n",
              "                   fit_intercept=True, intercept_scaling=1, l1_ratio=None,\n",
              "                   max_iter=100, multi_class='auto', n_jobs=None, penalty='l2',\n",
              "                   random_state=None, solver='lbfgs', tol=0.0001, verbose=0,\n",
              "                   warm_start=False)"
            ]
          },
          "metadata": {
            "tags": []
          },
          "execution_count": 924
        }
      ]
    },
    {
      "cell_type": "code",
      "metadata": {
        "id": "pd1qF5pehEMX",
        "colab_type": "code",
        "colab": {
          "base_uri": "https://localhost:8080/",
          "height": 34
        },
        "outputId": "79a1192f-0c27-477f-e3de-be75e787ad6c"
      },
      "source": [
        "LG.score(X_test_tfidf,y_test)"
      ],
      "execution_count": 925,
      "outputs": [
        {
          "output_type": "execute_result",
          "data": {
            "text/plain": [
              "0.6938144329896907"
            ]
          },
          "metadata": {
            "tags": []
          },
          "execution_count": 925
        }
      ]
    },
    {
      "cell_type": "code",
      "metadata": {
        "id": "gJkMVHxKhSNh",
        "colab_type": "code",
        "colab": {
          "base_uri": "https://localhost:8080/",
          "height": 34
        },
        "outputId": "383c1b1a-3d88-44eb-bdb8-08abf75dbbd7"
      },
      "source": [
        "LG.score(X_train_tfidf,y_train)"
      ],
      "execution_count": 926,
      "outputs": [
        {
          "output_type": "execute_result",
          "data": {
            "text/plain": [
              "0.7690918472652218"
            ]
          },
          "metadata": {
            "tags": []
          },
          "execution_count": 926
        }
      ]
    },
    {
      "cell_type": "code",
      "metadata": {
        "id": "fHRRamKziFqO",
        "colab_type": "code",
        "colab": {
          "base_uri": "https://localhost:8080/",
          "height": 34
        },
        "outputId": "e7299a5d-6434-471d-a25c-caae4ef64412"
      },
      "source": [
        "(y_test != LG.predict(X_test_tfidf)).sum()"
      ],
      "execution_count": 927,
      "outputs": [
        {
          "output_type": "execute_result",
          "data": {
            "text/plain": [
              "297"
            ]
          },
          "metadata": {
            "tags": []
          },
          "execution_count": 927
        }
      ]
    },
    {
      "cell_type": "code",
      "metadata": {
        "id": "Z-tksbfMiUKE",
        "colab_type": "code",
        "colab": {
          "base_uri": "https://localhost:8080/",
          "height": 187
        },
        "outputId": "ba133384-397b-430f-ebdb-9b2885a8bedc"
      },
      "source": [
        "print(classification_report(y_test,LG.predict(X_test_tfidf)))"
      ],
      "execution_count": 928,
      "outputs": [
        {
          "output_type": "stream",
          "text": [
            "              precision    recall  f1-score   support\n",
            "\n",
            "           0       0.50      0.64      0.56       121\n",
            "           1       0.60      0.48      0.53       273\n",
            "           2       0.78      0.81      0.79       576\n",
            "\n",
            "    accuracy                           0.69       970\n",
            "   macro avg       0.63      0.64      0.63       970\n",
            "weighted avg       0.69      0.69      0.69       970\n",
            "\n"
          ],
          "name": "stdout"
        }
      ]
    },
    {
      "cell_type": "markdown",
      "metadata": {
        "id": "VtAaxHXbHpfs",
        "colab_type": "text"
      },
      "source": [
        "## SVM on TFIDF"
      ]
    },
    {
      "cell_type": "code",
      "metadata": {
        "id": "HIPG4ZHEpiQF",
        "colab_type": "code",
        "outputId": "94d918f2-d4f8-4e3f-9c21-9a57595d3689",
        "colab": {
          "base_uri": "https://localhost:8080/",
          "height": 85
        }
      },
      "source": [
        "from sklearn.svm import SVC\n",
        "# define model\n",
        "model = SVC(kernel='linear',class_weight='balanced',C=0.2)\n",
        "# fit model\n",
        "model.fit(X_train_tfidf, y_train)\n"
      ],
      "execution_count": 957,
      "outputs": [
        {
          "output_type": "execute_result",
          "data": {
            "text/plain": [
              "SVC(C=0.2, break_ties=False, cache_size=200, class_weight='balanced', coef0=0.0,\n",
              "    decision_function_shape='ovr', degree=3, gamma='scale', kernel='linear',\n",
              "    max_iter=-1, probability=False, random_state=None, shrinking=True,\n",
              "    tol=0.001, verbose=False)"
            ]
          },
          "metadata": {
            "tags": []
          },
          "execution_count": 957
        }
      ]
    },
    {
      "cell_type": "code",
      "metadata": {
        "id": "nlQc5MJv8unt",
        "colab_type": "code",
        "outputId": "338222d9-4851-425f-f7e9-f4dac7788d8b",
        "colab": {
          "base_uri": "https://localhost:8080/",
          "height": 68
        }
      },
      "source": [
        "yhat=model.predict(X_test_tfidf)\n",
        "confusion_matrix(y_test,yhat)"
      ],
      "execution_count": 958,
      "outputs": [
        {
          "output_type": "execute_result",
          "data": {
            "text/plain": [
              "array([[ 75,  12,  34],\n",
              "       [ 40, 127, 106],\n",
              "       [ 38,  55, 483]])"
            ]
          },
          "metadata": {
            "tags": []
          },
          "execution_count": 958
        }
      ]
    },
    {
      "cell_type": "code",
      "metadata": {
        "id": "bzYLvEXb9h73",
        "colab_type": "code",
        "outputId": "218e97a3-ecba-4f69-fcf0-0c5a9945d263",
        "colab": {
          "base_uri": "https://localhost:8080/",
          "height": 34
        }
      },
      "source": [
        "print('Misclassified points =',(y_test != yhat).sum())"
      ],
      "execution_count": 959,
      "outputs": [
        {
          "output_type": "stream",
          "text": [
            "Misclassified points = 285\n"
          ],
          "name": "stdout"
        }
      ]
    },
    {
      "cell_type": "code",
      "metadata": {
        "id": "58bq2uFkGYcM",
        "colab_type": "code",
        "outputId": "d2871c57-4b5d-47f3-e4ce-c5ce39e815d7",
        "colab": {
          "base_uri": "https://localhost:8080/",
          "height": 51
        }
      },
      "source": [
        "print('Train Score',model.score(X_train_tfidf,y_train))\n",
        "print('Test Score',model.score(X_test_tfidf,y_test))"
      ],
      "execution_count": 960,
      "outputs": [
        {
          "output_type": "stream",
          "text": [
            "Train Score 0.7879256965944272\n",
            "Test Score 0.7061855670103093\n"
          ],
          "name": "stdout"
        }
      ]
    },
    {
      "cell_type": "code",
      "metadata": {
        "id": "77HSg7v4QWOW",
        "colab_type": "code",
        "outputId": "5fce90cf-d151-4b77-ecfe-6034165a458b",
        "colab": {
          "base_uri": "https://localhost:8080/",
          "height": 187
        }
      },
      "source": [
        "print(classification_report(y_test,yhat))"
      ],
      "execution_count": 961,
      "outputs": [
        {
          "output_type": "stream",
          "text": [
            "              precision    recall  f1-score   support\n",
            "\n",
            "           0       0.49      0.62      0.55       121\n",
            "           1       0.65      0.47      0.54       273\n",
            "           2       0.78      0.84      0.81       576\n",
            "\n",
            "    accuracy                           0.71       970\n",
            "   macro avg       0.64      0.64      0.63       970\n",
            "weighted avg       0.71      0.71      0.70       970\n",
            "\n"
          ],
          "name": "stdout"
        }
      ]
    },
    {
      "cell_type": "markdown",
      "metadata": {
        "id": "pKTyRq8jqnb8",
        "colab_type": "text"
      },
      "source": [
        "## SVM on Count Vectorizer"
      ]
    },
    {
      "cell_type": "code",
      "metadata": {
        "id": "4u_ou5UBqsp3",
        "colab_type": "code",
        "colab": {
          "base_uri": "https://localhost:8080/",
          "height": 85
        },
        "outputId": "d8205613-ead1-430d-a863-6868ebd06c88"
      },
      "source": [
        "# define model\n",
        "model = SVC(kernel='linear',class_weight='balanced',C=0.01)\n",
        "# fit model\n",
        "model.fit(X_train_count, y_train)"
      ],
      "execution_count": 944,
      "outputs": [
        {
          "output_type": "execute_result",
          "data": {
            "text/plain": [
              "SVC(C=0.01, break_ties=False, cache_size=200, class_weight='balanced',\n",
              "    coef0=0.0, decision_function_shape='ovr', degree=3, gamma='scale',\n",
              "    kernel='linear', max_iter=-1, probability=False, random_state=None,\n",
              "    shrinking=True, tol=0.001, verbose=False)"
            ]
          },
          "metadata": {
            "tags": []
          },
          "execution_count": 944
        }
      ]
    },
    {
      "cell_type": "code",
      "metadata": {
        "id": "V2uzcO7XqsYF",
        "colab_type": "code",
        "colab": {
          "base_uri": "https://localhost:8080/",
          "height": 68
        },
        "outputId": "bde04d2d-6479-4d9c-f53b-b6ee4c05dc1f"
      },
      "source": [
        "yhat=model.predict(X_test_count)\n",
        "confusion_matrix(y_test,yhat)"
      ],
      "execution_count": 946,
      "outputs": [
        {
          "output_type": "execute_result",
          "data": {
            "text/plain": [
              "array([[ 58,   7,  56],\n",
              "       [ 27,  93, 153],\n",
              "       [ 15,  28, 533]])"
            ]
          },
          "metadata": {
            "tags": []
          },
          "execution_count": 946
        }
      ]
    },
    {
      "cell_type": "code",
      "metadata": {
        "id": "3thZnD6Nq0vt",
        "colab_type": "code",
        "colab": {
          "base_uri": "https://localhost:8080/",
          "height": 34
        },
        "outputId": "757fcc36-a977-4876-88e0-011524821705"
      },
      "source": [
        "print('Misclassified points =',(y_test != yhat).sum())"
      ],
      "execution_count": 947,
      "outputs": [
        {
          "output_type": "stream",
          "text": [
            "Misclassified points = 286\n"
          ],
          "name": "stdout"
        }
      ]
    },
    {
      "cell_type": "code",
      "metadata": {
        "id": "beC--aseq4C5",
        "colab_type": "code",
        "colab": {
          "base_uri": "https://localhost:8080/",
          "height": 51
        },
        "outputId": "70aefae6-6773-443f-9fed-0c505f177f87"
      },
      "source": [
        "print('Train Score',model.score(X_train_count,y_train))\n",
        "print('Test Score',model.score(X_test_count,y_test))"
      ],
      "execution_count": 948,
      "outputs": [
        {
          "output_type": "stream",
          "text": [
            "Train Score 0.7383900928792569\n",
            "Test Score 0.7051546391752578\n"
          ],
          "name": "stdout"
        }
      ]
    },
    {
      "cell_type": "code",
      "metadata": {
        "id": "CcbqPuUOq6kc",
        "colab_type": "code",
        "colab": {
          "base_uri": "https://localhost:8080/",
          "height": 187
        },
        "outputId": "9b808c65-f1de-46bb-97cb-092d6251bdc1"
      },
      "source": [
        "print(classification_report(y_test,yhat))"
      ],
      "execution_count": 949,
      "outputs": [
        {
          "output_type": "stream",
          "text": [
            "              precision    recall  f1-score   support\n",
            "\n",
            "           0       0.58      0.48      0.52       121\n",
            "           1       0.73      0.34      0.46       273\n",
            "           2       0.72      0.93      0.81       576\n",
            "\n",
            "    accuracy                           0.71       970\n",
            "   macro avg       0.67      0.58      0.60       970\n",
            "weighted avg       0.70      0.71      0.68       970\n",
            "\n"
          ],
          "name": "stdout"
        }
      ]
    },
    {
      "cell_type": "markdown",
      "metadata": {
        "id": "k5rXnspKN0Vr",
        "colab_type": "text"
      },
      "source": [
        "# Naive bayes with Hyperparameter Tuning on Count Vectorizer"
      ]
    },
    {
      "cell_type": "code",
      "metadata": {
        "id": "_w7EHXUPIcO_",
        "colab_type": "code",
        "colab": {}
      },
      "source": [
        "from sklearn.naive_bayes import MultinomialNB"
      ],
      "execution_count": 0,
      "outputs": []
    },
    {
      "cell_type": "code",
      "metadata": {
        "id": "69C00RPCIo9T",
        "colab_type": "code",
        "outputId": "461fbf4f-e91f-4f8c-d5b7-9091c79ea50f",
        "colab": {
          "base_uri": "https://localhost:8080/",
          "height": 136
        }
      },
      "source": [
        "parameters = {'alpha': [10**-4, 10**-3, 10**-2, 10**-1, 10**0,10**1,10**2]}\n",
        "clf1=MultinomialNB()\n",
        "classif1 = GridSearchCV(clf1, parameters, cv=10,return_train_score=True)\n",
        "#LG.fit(X_train_tfidf,y_train)\n",
        "classif1.fit(X_train_count,y_train)"
      ],
      "execution_count": 991,
      "outputs": [
        {
          "output_type": "execute_result",
          "data": {
            "text/plain": [
              "GridSearchCV(cv=10, error_score=nan,\n",
              "             estimator=MultinomialNB(alpha=1.0, class_prior=None,\n",
              "                                     fit_prior=True),\n",
              "             iid='deprecated', n_jobs=None,\n",
              "             param_grid={'alpha': [0.0001, 0.001, 0.01, 0.1, 1, 10, 100]},\n",
              "             pre_dispatch='2*n_jobs', refit=True, return_train_score=True,\n",
              "             scoring=None, verbose=0)"
            ]
          },
          "metadata": {
            "tags": []
          },
          "execution_count": 991
        }
      ]
    },
    {
      "cell_type": "code",
      "metadata": {
        "id": "D9eyFFsULVyz",
        "colab_type": "code",
        "outputId": "94982975-79f5-4774-c13b-aede5fcff2b0",
        "colab": {
          "base_uri": "https://localhost:8080/",
          "height": 34
        }
      },
      "source": [
        "classif1.best_params_"
      ],
      "execution_count": 992,
      "outputs": [
        {
          "output_type": "execute_result",
          "data": {
            "text/plain": [
              "{'alpha': 0.01}"
            ]
          },
          "metadata": {
            "tags": []
          },
          "execution_count": 992
        }
      ]
    },
    {
      "cell_type": "code",
      "metadata": {
        "id": "7Mon1wovM-DL",
        "colab_type": "code",
        "outputId": "c7bd8c86-5273-4144-acbf-f6558c4b189f",
        "colab": {
          "base_uri": "https://localhost:8080/",
          "height": 34
        }
      },
      "source": [
        "print(\"Best Score on CV =\",classif1.best_score_)"
      ],
      "execution_count": 993,
      "outputs": [
        {
          "output_type": "stream",
          "text": [
            "Best Score on CV = 0.7089680066064626\n"
          ],
          "name": "stdout"
        }
      ]
    },
    {
      "cell_type": "code",
      "metadata": {
        "id": "2uH-CWngLkoq",
        "colab_type": "code",
        "outputId": "df75b081-5b27-4761-f9d4-0e5cab11e943",
        "colab": {
          "base_uri": "https://localhost:8080/",
          "height": 85
        }
      },
      "source": [
        "y_hat=classif1.predict(X_test_count)\n",
        "print('Confusion Matrix')\n",
        "confusion_matrix(y_test,y_hat)"
      ],
      "execution_count": 994,
      "outputs": [
        {
          "output_type": "stream",
          "text": [
            "Confusion Matrix\n"
          ],
          "name": "stdout"
        },
        {
          "output_type": "execute_result",
          "data": {
            "text/plain": [
              "array([[ 64,  18,  39],\n",
              "       [ 30, 113, 130],\n",
              "       [ 30,  47, 499]])"
            ]
          },
          "metadata": {
            "tags": []
          },
          "execution_count": 994
        }
      ]
    },
    {
      "cell_type": "code",
      "metadata": {
        "id": "yzsvGV6mLo6n",
        "colab_type": "code",
        "outputId": "72e9690c-7b7b-4420-f6d8-1cbb91e2e379",
        "colab": {
          "base_uri": "https://localhost:8080/",
          "height": 34
        }
      },
      "source": [
        "print('Misclassified points =',(y_test != y_hat).sum())"
      ],
      "execution_count": 995,
      "outputs": [
        {
          "output_type": "stream",
          "text": [
            "Misclassified points = 294\n"
          ],
          "name": "stdout"
        }
      ]
    },
    {
      "cell_type": "code",
      "metadata": {
        "id": "QzXWDcIdL1R3",
        "colab_type": "code",
        "outputId": "c81505a6-d451-44c9-a3c7-88cbb23dd43f",
        "colab": {
          "base_uri": "https://localhost:8080/",
          "height": 51
        }
      },
      "source": [
        "print('Train Score',classif1.score(X_train_count,y_train))\n",
        "print('Test Score',classif1.score(X_test_count,y_test))"
      ],
      "execution_count": 996,
      "outputs": [
        {
          "output_type": "stream",
          "text": [
            "Train Score 0.7652218782249742\n",
            "Test Score 0.6969072164948453\n"
          ],
          "name": "stdout"
        }
      ]
    },
    {
      "cell_type": "code",
      "metadata": {
        "id": "MPe_tn5jPrZw",
        "colab_type": "code",
        "outputId": "96891a50-199b-45ba-ce5f-2be3660c7e06",
        "colab": {
          "base_uri": "https://localhost:8080/",
          "height": 187
        }
      },
      "source": [
        "print(classification_report(y_test,y_hat))"
      ],
      "execution_count": 997,
      "outputs": [
        {
          "output_type": "stream",
          "text": [
            "              precision    recall  f1-score   support\n",
            "\n",
            "           0       0.52      0.53      0.52       121\n",
            "           1       0.63      0.41      0.50       273\n",
            "           2       0.75      0.87      0.80       576\n",
            "\n",
            "    accuracy                           0.70       970\n",
            "   macro avg       0.63      0.60      0.61       970\n",
            "weighted avg       0.69      0.70      0.68       970\n",
            "\n"
          ],
          "name": "stdout"
        }
      ]
    },
    {
      "cell_type": "markdown",
      "metadata": {
        "id": "SJKbcpujtXw3",
        "colab_type": "text"
      },
      "source": [
        "# Naive Bayes on TFIDF Vectorizer"
      ]
    },
    {
      "cell_type": "code",
      "metadata": {
        "id": "qfJ9dzlAr_c8",
        "colab_type": "code",
        "colab": {
          "base_uri": "https://localhost:8080/",
          "height": 51
        },
        "outputId": "124f9b54-4b1d-4122-c431-1f321647e038"
      },
      "source": [
        "ml=MultinomialNB(alpha=0.1)\n",
        "ml.fit(X_train_tfidf,y_train)\n",
        "print('Test Score',ml.score(X_test_tfidf,y_test))\n",
        "print('Train Score', ml.score(X_train_tfidf,y_train))"
      ],
      "execution_count": 1008,
      "outputs": [
        {
          "output_type": "stream",
          "text": [
            "Test Score 0.7082474226804124\n",
            "Train Score 0.7654798761609907\n"
          ],
          "name": "stdout"
        }
      ]
    },
    {
      "cell_type": "code",
      "metadata": {
        "id": "ZF3JTII-r_W8",
        "colab_type": "code",
        "colab": {
          "base_uri": "https://localhost:8080/",
          "height": 34
        },
        "outputId": "7a1d4f2b-3ab7-431d-b878-4c6c9377bbc4"
      },
      "source": [
        "print('Misclassified points =',(y_test != ml.predict(X_test_tfidf)).sum())"
      ],
      "execution_count": 1009,
      "outputs": [
        {
          "output_type": "stream",
          "text": [
            "Misclassified points = 283\n"
          ],
          "name": "stdout"
        }
      ]
    },
    {
      "cell_type": "code",
      "metadata": {
        "id": "o890wprvr_Su",
        "colab_type": "code",
        "colab": {
          "base_uri": "https://localhost:8080/",
          "height": 187
        },
        "outputId": "6fed34e1-8c65-488a-9dc8-0a358da8a2b8"
      },
      "source": [
        "print(classification_report(y_test,ml.predict(X_test_tfidf)))"
      ],
      "execution_count": 1010,
      "outputs": [
        {
          "output_type": "stream",
          "text": [
            "              precision    recall  f1-score   support\n",
            "\n",
            "           0       0.57      0.45      0.50       121\n",
            "           1       0.69      0.41      0.51       273\n",
            "           2       0.73      0.91      0.81       576\n",
            "\n",
            "    accuracy                           0.71       970\n",
            "   macro avg       0.66      0.59      0.61       970\n",
            "weighted avg       0.70      0.71      0.69       970\n",
            "\n"
          ],
          "name": "stdout"
        }
      ]
    },
    {
      "cell_type": "markdown",
      "metadata": {
        "id": "GpiCrqVdgTRj",
        "colab_type": "text"
      },
      "source": [
        "# XGBOOST"
      ]
    },
    {
      "cell_type": "code",
      "metadata": {
        "id": "N7JbSWh8QPIt",
        "colab_type": "code",
        "colab": {}
      },
      "source": [
        "from xgboost import XGBClassifier\n"
      ],
      "execution_count": 0,
      "outputs": []
    },
    {
      "cell_type": "code",
      "metadata": {
        "id": "Vsoh6bHoh1S-",
        "colab_type": "code",
        "outputId": "070305d5-432d-41ed-bbfe-8b7d14495614",
        "colab": {
          "base_uri": "https://localhost:8080/",
          "height": 102
        }
      },
      "source": [
        "from numpy import mean\n",
        "xg=XGBClassifier()\n",
        "#kfold = RepeatedStratifiedKFold(n_splits=10,random_state=1)\n",
        "n_estimators = [50,100,150,200]\n",
        "max_depth = [2,4,6,8]\n",
        "learning_rate = [0.0001, 0.001, 0.01, 0.1, 0.2, 0.3]\n",
        "param_grid = dict(max_depth=max_depth, n_estimators=n_estimators,learning_rate=learning_rate)\n",
        "grid_search = GridSearchCV(xg, param_grid, scoring=\"accuracy\", n_jobs=-1, cv=3, verbose=1)\n",
        "grid_result = grid_search.fit(X_train_tfidf, y_train)\n",
        "# evaluate model\n",
        "# summarize performance\n"
      ],
      "execution_count": 1012,
      "outputs": [
        {
          "output_type": "stream",
          "text": [
            "Fitting 3 folds for each of 96 candidates, totalling 288 fits\n"
          ],
          "name": "stdout"
        },
        {
          "output_type": "stream",
          "text": [
            "[Parallel(n_jobs=-1)]: Using backend LokyBackend with 2 concurrent workers.\n",
            "[Parallel(n_jobs=-1)]: Done  46 tasks      | elapsed:  1.9min\n",
            "[Parallel(n_jobs=-1)]: Done 196 tasks      | elapsed:  7.8min\n",
            "[Parallel(n_jobs=-1)]: Done 288 out of 288 | elapsed: 11.5min finished\n"
          ],
          "name": "stderr"
        }
      ]
    },
    {
      "cell_type": "code",
      "metadata": {
        "id": "QQfoiSJgh1QV",
        "colab_type": "code",
        "outputId": "30345040-fe8b-459e-cad0-62aa586e9221",
        "colab": {
          "base_uri": "https://localhost:8080/",
          "height": 1000
        }
      },
      "source": [
        "print(\"Best: %f using %s\" % (grid_result.best_score_, grid_result.best_params_))\n",
        "means = grid_result.cv_results_['mean_test_score']\n",
        "stds = grid_result.cv_results_['std_test_score']\n",
        "params = grid_result.cv_results_['params']\n",
        "for mean, stdev, param in zip(means, stds, params):\n",
        "\tprint(\"%f (%f) with: %r\" % (mean, stdev, param))"
      ],
      "execution_count": 1014,
      "outputs": [
        {
          "output_type": "stream",
          "text": [
            "Best: 0.746904 using {'learning_rate': 0.1, 'max_depth': 8, 'n_estimators': 100}\n",
            "0.654283 (0.004572) with: {'learning_rate': 0.0001, 'max_depth': 2, 'n_estimators': 50}\n",
            "0.654283 (0.004572) with: {'learning_rate': 0.0001, 'max_depth': 2, 'n_estimators': 100}\n",
            "0.654799 (0.005016) with: {'learning_rate': 0.0001, 'max_depth': 2, 'n_estimators': 150}\n",
            "0.654799 (0.005016) with: {'learning_rate': 0.0001, 'max_depth': 2, 'n_estimators': 200}\n",
            "0.681115 (0.011498) with: {'learning_rate': 0.0001, 'max_depth': 4, 'n_estimators': 50}\n",
            "0.681115 (0.011498) with: {'learning_rate': 0.0001, 'max_depth': 4, 'n_estimators': 100}\n",
            "0.681115 (0.011498) with: {'learning_rate': 0.0001, 'max_depth': 4, 'n_estimators': 150}\n",
            "0.681115 (0.011498) with: {'learning_rate': 0.0001, 'max_depth': 4, 'n_estimators': 200}\n",
            "0.700980 (0.006698) with: {'learning_rate': 0.0001, 'max_depth': 6, 'n_estimators': 50}\n",
            "0.700980 (0.006698) with: {'learning_rate': 0.0001, 'max_depth': 6, 'n_estimators': 100}\n",
            "0.700980 (0.006698) with: {'learning_rate': 0.0001, 'max_depth': 6, 'n_estimators': 150}\n",
            "0.701238 (0.007037) with: {'learning_rate': 0.0001, 'max_depth': 6, 'n_estimators': 200}\n",
            "0.711300 (0.002189) with: {'learning_rate': 0.0001, 'max_depth': 8, 'n_estimators': 50}\n",
            "0.711300 (0.002189) with: {'learning_rate': 0.0001, 'max_depth': 8, 'n_estimators': 100}\n",
            "0.711300 (0.002189) with: {'learning_rate': 0.0001, 'max_depth': 8, 'n_estimators': 150}\n",
            "0.711300 (0.002189) with: {'learning_rate': 0.0001, 'max_depth': 8, 'n_estimators': 200}\n",
            "0.651445 (0.004063) with: {'learning_rate': 0.001, 'max_depth': 2, 'n_estimators': 50}\n",
            "0.652219 (0.005147) with: {'learning_rate': 0.001, 'max_depth': 2, 'n_estimators': 100}\n",
            "0.651961 (0.005300) with: {'learning_rate': 0.001, 'max_depth': 2, 'n_estimators': 150}\n",
            "0.653251 (0.004771) with: {'learning_rate': 0.001, 'max_depth': 2, 'n_estimators': 200}\n",
            "0.679825 (0.011311) with: {'learning_rate': 0.001, 'max_depth': 4, 'n_estimators': 50}\n",
            "0.683437 (0.006598) with: {'learning_rate': 0.001, 'max_depth': 4, 'n_estimators': 100}\n",
            "0.686017 (0.006932) with: {'learning_rate': 0.001, 'max_depth': 4, 'n_estimators': 150}\n",
            "0.686017 (0.006932) with: {'learning_rate': 0.001, 'max_depth': 4, 'n_estimators': 200}\n",
            "0.700722 (0.007902) with: {'learning_rate': 0.001, 'max_depth': 6, 'n_estimators': 50}\n",
            "0.698142 (0.009932) with: {'learning_rate': 0.001, 'max_depth': 6, 'n_estimators': 100}\n",
            "0.698400 (0.010039) with: {'learning_rate': 0.001, 'max_depth': 6, 'n_estimators': 150}\n",
            "0.697884 (0.012357) with: {'learning_rate': 0.001, 'max_depth': 6, 'n_estimators': 200}\n",
            "0.709494 (0.003861) with: {'learning_rate': 0.001, 'max_depth': 8, 'n_estimators': 50}\n",
            "0.709236 (0.004572) with: {'learning_rate': 0.001, 'max_depth': 8, 'n_estimators': 100}\n",
            "0.708978 (0.003844) with: {'learning_rate': 0.001, 'max_depth': 8, 'n_estimators': 150}\n",
            "0.710784 (0.006073) with: {'learning_rate': 0.001, 'max_depth': 8, 'n_estimators': 200}\n",
            "0.654283 (0.003481) with: {'learning_rate': 0.01, 'max_depth': 2, 'n_estimators': 50}\n",
            "0.656347 (0.005617) with: {'learning_rate': 0.01, 'max_depth': 2, 'n_estimators': 100}\n",
            "0.660733 (0.002393) with: {'learning_rate': 0.01, 'max_depth': 2, 'n_estimators': 150}\n",
            "0.665893 (0.002850) with: {'learning_rate': 0.01, 'max_depth': 2, 'n_estimators': 200}\n",
            "0.686275 (0.006578) with: {'learning_rate': 0.01, 'max_depth': 4, 'n_estimators': 50}\n",
            "0.691950 (0.005056) with: {'learning_rate': 0.01, 'max_depth': 4, 'n_estimators': 100}\n",
            "0.697626 (0.004063) with: {'learning_rate': 0.01, 'max_depth': 4, 'n_estimators': 150}\n",
            "0.705624 (0.006330) with: {'learning_rate': 0.01, 'max_depth': 4, 'n_estimators': 200}\n",
            "0.700206 (0.007645) with: {'learning_rate': 0.01, 'max_depth': 6, 'n_estimators': 50}\n",
            "0.710010 (0.005734) with: {'learning_rate': 0.01, 'max_depth': 6, 'n_estimators': 100}\n",
            "0.714654 (0.004785) with: {'learning_rate': 0.01, 'max_depth': 6, 'n_estimators': 150}\n",
            "0.716976 (0.004063) with: {'learning_rate': 0.01, 'max_depth': 6, 'n_estimators': 200}\n",
            "0.714396 (0.002896) with: {'learning_rate': 0.01, 'max_depth': 8, 'n_estimators': 50}\n",
            "0.716460 (0.003809) with: {'learning_rate': 0.01, 'max_depth': 8, 'n_estimators': 100}\n",
            "0.718782 (0.004572) with: {'learning_rate': 0.01, 'max_depth': 8, 'n_estimators': 150}\n",
            "0.721104 (0.003809) with: {'learning_rate': 0.01, 'max_depth': 8, 'n_estimators': 200}\n",
            "0.697626 (0.000965) with: {'learning_rate': 0.1, 'max_depth': 2, 'n_estimators': 50}\n",
            "0.720330 (0.003481) with: {'learning_rate': 0.1, 'max_depth': 2, 'n_estimators': 100}\n",
            "0.729102 (0.006224) with: {'learning_rate': 0.1, 'max_depth': 2, 'n_estimators': 150}\n",
            "0.734778 (0.004909) with: {'learning_rate': 0.1, 'max_depth': 2, 'n_estimators': 200}\n",
            "0.718782 (0.008052) with: {'learning_rate': 0.1, 'max_depth': 4, 'n_estimators': 50}\n",
            "0.734262 (0.001824) with: {'learning_rate': 0.1, 'max_depth': 4, 'n_estimators': 100}\n",
            "0.739164 (0.002755) with: {'learning_rate': 0.1, 'max_depth': 4, 'n_estimators': 150}\n",
            "0.743808 (0.002528) with: {'learning_rate': 0.1, 'max_depth': 4, 'n_estimators': 200}\n",
            "0.729102 (0.005509) with: {'learning_rate': 0.1, 'max_depth': 6, 'n_estimators': 50}\n",
            "0.739422 (0.004484) with: {'learning_rate': 0.1, 'max_depth': 6, 'n_estimators': 100}\n",
            "0.744840 (0.001316) with: {'learning_rate': 0.1, 'max_depth': 6, 'n_estimators': 150}\n",
            "0.744324 (0.003117) with: {'learning_rate': 0.1, 'max_depth': 6, 'n_estimators': 200}\n",
            "0.734778 (0.002393) with: {'learning_rate': 0.1, 'max_depth': 8, 'n_estimators': 50}\n",
            "0.746904 (0.003519) with: {'learning_rate': 0.1, 'max_depth': 8, 'n_estimators': 100}\n",
            "0.745614 (0.002554) with: {'learning_rate': 0.1, 'max_depth': 8, 'n_estimators': 150}\n",
            "0.744582 (0.001672) with: {'learning_rate': 0.1, 'max_depth': 8, 'n_estimators': 200}\n",
            "0.721104 (0.004208) with: {'learning_rate': 0.2, 'max_depth': 2, 'n_estimators': 50}\n",
            "0.733230 (0.005521) with: {'learning_rate': 0.2, 'max_depth': 2, 'n_estimators': 100}\n",
            "0.742260 (0.004424) with: {'learning_rate': 0.2, 'max_depth': 2, 'n_estimators': 150}\n",
            "0.745356 (0.004424) with: {'learning_rate': 0.2, 'max_depth': 2, 'n_estimators': 200}\n",
            "0.735810 (0.001590) with: {'learning_rate': 0.2, 'max_depth': 4, 'n_estimators': 50}\n",
            "0.743292 (0.001316) with: {'learning_rate': 0.2, 'max_depth': 4, 'n_estimators': 100}\n",
            "0.739422 (0.002850) with: {'learning_rate': 0.2, 'max_depth': 4, 'n_estimators': 150}\n",
            "0.739164 (0.004771) with: {'learning_rate': 0.2, 'max_depth': 4, 'n_estimators': 200}\n",
            "0.741486 (0.004936) with: {'learning_rate': 0.2, 'max_depth': 6, 'n_estimators': 50}\n",
            "0.744324 (0.003181) with: {'learning_rate': 0.2, 'max_depth': 6, 'n_estimators': 100}\n",
            "0.743808 (0.003284) with: {'learning_rate': 0.2, 'max_depth': 6, 'n_estimators': 150}\n",
            "0.739680 (0.002219) with: {'learning_rate': 0.2, 'max_depth': 6, 'n_estimators': 200}\n",
            "0.744582 (0.002279) with: {'learning_rate': 0.2, 'max_depth': 8, 'n_estimators': 50}\n",
            "0.741228 (0.002554) with: {'learning_rate': 0.2, 'max_depth': 8, 'n_estimators': 100}\n",
            "0.735810 (0.001316) with: {'learning_rate': 0.2, 'max_depth': 8, 'n_estimators': 150}\n",
            "0.733230 (0.005108) with: {'learning_rate': 0.2, 'max_depth': 8, 'n_estimators': 200}\n",
            "0.728070 (0.002919) with: {'learning_rate': 0.3, 'max_depth': 2, 'n_estimators': 50}\n",
            "0.740712 (0.002279) with: {'learning_rate': 0.3, 'max_depth': 2, 'n_estimators': 100}\n",
            "0.742776 (0.003243) with: {'learning_rate': 0.3, 'max_depth': 2, 'n_estimators': 150}\n",
            "0.742518 (0.005262) with: {'learning_rate': 0.3, 'max_depth': 2, 'n_estimators': 200}\n",
            "0.739422 (0.002219) with: {'learning_rate': 0.3, 'max_depth': 4, 'n_estimators': 50}\n",
            "0.741486 (0.003160) with: {'learning_rate': 0.3, 'max_depth': 4, 'n_estimators': 100}\n",
            "0.741744 (0.003481) with: {'learning_rate': 0.3, 'max_depth': 4, 'n_estimators': 150}\n",
            "0.742002 (0.005449) with: {'learning_rate': 0.3, 'max_depth': 4, 'n_estimators': 200}\n",
            "0.741228 (0.003243) with: {'learning_rate': 0.3, 'max_depth': 6, 'n_estimators': 50}\n",
            "0.741228 (0.003181) with: {'learning_rate': 0.3, 'max_depth': 6, 'n_estimators': 100}\n",
            "0.738390 (0.002279) with: {'learning_rate': 0.3, 'max_depth': 6, 'n_estimators': 150}\n",
            "0.734778 (0.000365) with: {'learning_rate': 0.3, 'max_depth': 6, 'n_estimators': 200}\n",
            "0.743808 (0.001264) with: {'learning_rate': 0.3, 'max_depth': 8, 'n_estimators': 50}\n",
            "0.736584 (0.001931) with: {'learning_rate': 0.3, 'max_depth': 8, 'n_estimators': 100}\n",
            "0.730650 (0.007288) with: {'learning_rate': 0.3, 'max_depth': 8, 'n_estimators': 150}\n",
            "0.729102 (0.005617) with: {'learning_rate': 0.3, 'max_depth': 8, 'n_estimators': 200}\n"
          ],
          "name": "stdout"
        }
      ]
    },
    {
      "cell_type": "code",
      "metadata": {
        "id": "1J4gnLR_h1N3",
        "colab_type": "code",
        "colab": {}
      },
      "source": [
        ""
      ],
      "execution_count": 0,
      "outputs": []
    },
    {
      "cell_type": "markdown",
      "metadata": {
        "id": "KUnDwF8cwb3J",
        "colab_type": "text"
      },
      "source": [
        "## XGBOOST on TFIDF vectorizer With best hyperparameters"
      ]
    },
    {
      "cell_type": "code",
      "metadata": {
        "id": "sR-wL6zcf7lk",
        "colab_type": "code",
        "outputId": "8d1b545c-85a3-40f5-9074-b95875e37e4e",
        "colab": {
          "base_uri": "https://localhost:8080/",
          "height": 136
        }
      },
      "source": [
        "xg=XGBClassifier(learning_rate= 0.1, max_depth= 8, n_estimators=100)\n",
        "xg.fit(X_train_tfidf,y_train)"
      ],
      "execution_count": 1037,
      "outputs": [
        {
          "output_type": "execute_result",
          "data": {
            "text/plain": [
              "XGBClassifier(base_score=0.5, booster='gbtree', colsample_bylevel=1,\n",
              "              colsample_bynode=1, colsample_bytree=1, gamma=0,\n",
              "              learning_rate=0.1, max_delta_step=0, max_depth=8,\n",
              "              min_child_weight=1, missing=None, n_estimators=100, n_jobs=1,\n",
              "              nthread=None, objective='multi:softprob', random_state=0,\n",
              "              reg_alpha=0, reg_lambda=1, scale_pos_weight=1, seed=None,\n",
              "              silent=None, subsample=1, verbosity=1)"
            ]
          },
          "metadata": {
            "tags": []
          },
          "execution_count": 1037
        }
      ]
    },
    {
      "cell_type": "code",
      "metadata": {
        "id": "tUx53CFpNacX",
        "colab_type": "code",
        "outputId": "91446f7e-ef94-4253-d741-d5013de6ba27",
        "colab": {
          "base_uri": "https://localhost:8080/",
          "height": 51
        }
      },
      "source": [
        "print('Test Score',xg.score(X_test_tfidf,y_test))\n",
        "print('Train Score',xg.score(X_train_tfidf,y_train))"
      ],
      "execution_count": 1038,
      "outputs": [
        {
          "output_type": "stream",
          "text": [
            "Test Score 0.7402061855670103\n",
            "Train Score 0.8560371517027864\n"
          ],
          "name": "stdout"
        }
      ]
    },
    {
      "cell_type": "code",
      "metadata": {
        "id": "j3EufDAMZJM4",
        "colab_type": "code",
        "colab": {
          "base_uri": "https://localhost:8080/",
          "height": 34
        },
        "outputId": "3f832a51-a60c-47e6-f1bd-90e02538268b"
      },
      "source": [
        "y_p=xg.predict(X_test_tfidf)\n",
        "print('Misclassified points',(y_test != y_p).sum())"
      ],
      "execution_count": 1039,
      "outputs": [
        {
          "output_type": "stream",
          "text": [
            "Misclassified points 252\n"
          ],
          "name": "stdout"
        }
      ]
    },
    {
      "cell_type": "code",
      "metadata": {
        "id": "_iJw-BZDZOVQ",
        "colab_type": "code",
        "colab": {
          "base_uri": "https://localhost:8080/",
          "height": 187
        },
        "outputId": "63fce906-a1a2-405a-e0b4-3161784ad3f3"
      },
      "source": [
        "print(classification_report(y_test,y_p))"
      ],
      "execution_count": 1040,
      "outputs": [
        {
          "output_type": "stream",
          "text": [
            "              precision    recall  f1-score   support\n",
            "\n",
            "           0       0.79      0.41      0.54       121\n",
            "           1       0.74      0.46      0.57       273\n",
            "           2       0.74      0.94      0.83       576\n",
            "\n",
            "    accuracy                           0.74       970\n",
            "   macro avg       0.76      0.61      0.65       970\n",
            "weighted avg       0.74      0.74      0.72       970\n",
            "\n"
          ],
          "name": "stdout"
        }
      ]
    },
    {
      "cell_type": "markdown",
      "metadata": {
        "id": "zCmumLf6mmnz",
        "colab_type": "text"
      },
      "source": [
        "## XGBOOST ON Count vectorizer Features\n",
        "\n"
      ]
    },
    {
      "cell_type": "code",
      "metadata": {
        "id": "AALAM3DjPvSK",
        "colab_type": "code",
        "colab": {
          "base_uri": "https://localhost:8080/",
          "height": 51
        },
        "outputId": "37cc0edd-8c60-4f86-bdc6-a62c9d10f401"
      },
      "source": [
        "xgb=XGBClassifier()\n",
        "xgb.fit(X_train_count,y_train)\n",
        "print('Test score',xgb.score(X_test_count,y_test))\n",
        "print('Train score',xgb.score(X_train_count,y_train))"
      ],
      "execution_count": 1061,
      "outputs": [
        {
          "output_type": "stream",
          "text": [
            "Test score 0.722680412371134\n",
            "Train score 0.7657378740970072\n"
          ],
          "name": "stdout"
        }
      ]
    },
    {
      "cell_type": "code",
      "metadata": {
        "id": "JsUKtQNFlSUD",
        "colab_type": "code",
        "colab": {
          "base_uri": "https://localhost:8080/",
          "height": 34
        },
        "outputId": "fc4afde1-aeb1-42b4-eb09-3f2d033acfc0"
      },
      "source": [
        "y_pr=xg.predict(X_test_count)\n",
        "print('Misclassified points',(y_test != y_pr).sum())"
      ],
      "execution_count": 1062,
      "outputs": [
        {
          "output_type": "stream",
          "text": [
            "Misclassified points 310\n"
          ],
          "name": "stdout"
        }
      ]
    },
    {
      "cell_type": "code",
      "metadata": {
        "id": "03PLNxvgyP_w",
        "colab_type": "code",
        "colab": {
          "base_uri": "https://localhost:8080/",
          "height": 187
        },
        "outputId": "0becbbf0-5c64-4ec3-c8c2-57c10acf50d4"
      },
      "source": [
        "print(classification_report(y_test,y_pr))"
      ],
      "execution_count": 1063,
      "outputs": [
        {
          "output_type": "stream",
          "text": [
            "              precision    recall  f1-score   support\n",
            "\n",
            "           0       0.62      0.17      0.27       121\n",
            "           1       0.82      0.26      0.40       273\n",
            "           2       0.67      0.98      0.80       576\n",
            "\n",
            "    accuracy                           0.68       970\n",
            "   macro avg       0.70      0.47      0.49       970\n",
            "weighted avg       0.70      0.68      0.62       970\n",
            "\n"
          ],
          "name": "stdout"
        }
      ]
    }
  ]
}