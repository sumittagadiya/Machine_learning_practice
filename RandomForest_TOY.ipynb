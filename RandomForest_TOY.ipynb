{
  "nbformat": 4,
  "nbformat_minor": 0,
  "metadata": {
    "colab": {
      "name": "RandomForest_TOY.ipynb",
      "provenance": [],
      "collapsed_sections": []
    },
    "kernelspec": {
      "name": "python3",
      "display_name": "Python 3"
    }
  },
  "cells": [
    {
      "cell_type": "markdown",
      "metadata": {
        "id": "OB7Y3NeQLvjj",
        "colab_type": "text"
      },
      "source": [
        "# **Random Forest With Toy Data**\n",
        "*   Random forest is an ensemble of decision tree algorithms.\n",
        "\n",
        "*   It is an extension of bootstrap aggregation (bagging) of decision trees and can be used for classification and regression problems.\n",
        "*   In bagging, a number of decision trees are created where each tree is created from a different bootstrap sample of the training dataset.\n",
        "*   A bootstrap sample is a sample of the training dataset where a sample may appear more than once in the sample, referred to as sampling with replacement.\n",
        "*   Predictions from the trees are averaged across all decision trees resulting in better performance than any single tree in the model.\n",
        "\n",
        "**Reference** : https://machinelearningmastery.com/random-forest-ensemble-in-python/"
      ]
    },
    {
      "cell_type": "code",
      "metadata": {
        "id": "_YZkS2-FLrSJ",
        "colab_type": "code",
        "colab": {
          "base_uri": "https://localhost:8080/",
          "height": 34
        },
        "outputId": "1c7f1e65-fe71-4388-9e6d-7ef35da56a60"
      },
      "source": [
        "import sklearn\n",
        "print(sklearn.__version__)"
      ],
      "execution_count": 1,
      "outputs": [
        {
          "output_type": "stream",
          "text": [
            "0.22.2.post1\n"
          ],
          "name": "stdout"
        }
      ]
    },
    {
      "cell_type": "markdown",
      "metadata": {
        "id": "NmomWDhkN5WA",
        "colab_type": "text"
      },
      "source": [
        "## Random Forest with classification\n",
        "*   First, we will use the make_classification() function to create a synthetic binary classification problem with 1,000 examples and 20 input features.\n",
        "* make_classification() : https://scikit-learn.org/stable/modules/generated/sklearn.datasets.make_classification.html"
      ]
    },
    {
      "cell_type": "code",
      "metadata": {
        "id": "6RpBMJcDNoKI",
        "colab_type": "code",
        "colab": {
          "base_uri": "https://localhost:8080/",
          "height": 51
        },
        "outputId": "15e47568-156c-4f5e-ad29-4c3f0a97a4af"
      },
      "source": [
        "# test classification dataset\n",
        "from sklearn.datasets import make_classification\n",
        "# define dataset\n",
        "X, y = make_classification(n_samples=1000, n_features=20, n_informative=15, n_redundant=5, random_state=3)\n",
        "# summarize the dataset\n",
        "print(X.shape, y.shape)\n",
        "type(X)"
      ],
      "execution_count": 3,
      "outputs": [
        {
          "output_type": "stream",
          "text": [
            "(1000, 20) (1000,)\n"
          ],
          "name": "stdout"
        },
        {
          "output_type": "execute_result",
          "data": {
            "text/plain": [
              "numpy.ndarray"
            ]
          },
          "metadata": {
            "tags": []
          },
          "execution_count": 3
        }
      ]
    },
    {
      "cell_type": "code",
      "metadata": {
        "id": "BcF6OK73PQ8d",
        "colab_type": "code",
        "colab": {
          "base_uri": "https://localhost:8080/",
          "height": 238
        },
        "outputId": "f56ff08d-25f7-4122-9b37-1311c53c5a1b"
      },
      "source": [
        "print(X)\n",
        "#As we can see there are 1000 samples(Rows) and 20 features(columns) are there in data "
      ],
      "execution_count": 5,
      "outputs": [
        {
          "output_type": "stream",
          "text": [
            "[[ -8.52381793   5.24451077 -12.14967704 ...   1.05057966   0.6975331\n",
            "    0.26076035]\n",
            " [ -0.05916285  -3.54893654   0.28450157 ...   2.25695685   1.22878976\n",
            "   -2.35705572]\n",
            " [  1.43722964  -2.7930806    3.06777424 ...   7.17348666   2.7348798\n",
            "   -5.86519533]\n",
            " ...\n",
            " [  3.16342902  -9.33711497   9.98425127 ...  -2.10531942  -0.81155073\n",
            "   -1.87188942]\n",
            " [ -9.02657972   2.59981304  -4.6665526  ...  -1.4839017   -1.30836833\n",
            "    0.22976655]\n",
            " [ -2.91686079   2.27957528  -1.00615184 ...  -0.67922735  -2.84990903\n",
            "   -2.06836683]]\n"
          ],
          "name": "stdout"
        }
      ]
    },
    {
      "cell_type": "code",
      "metadata": {
        "id": "-_fUPYO0PXGa",
        "colab_type": "code",
        "colab": {
          "base_uri": "https://localhost:8080/",
          "height": 493
        },
        "outputId": "bd2c2220-5feb-48c4-a41a-4fc7dafa3a24"
      },
      "source": [
        "print(y) \n",
        "#As we can see there are 2 classes in target feature.\n",
        "#we can make more then 2 class classification problem by giving setting value of n_classes in make_classification"
      ],
      "execution_count": 8,
      "outputs": [
        {
          "output_type": "stream",
          "text": [
            "[0 1 1 1 0 1 1 0 1 0 1 1 0 0 1 0 0 1 1 0 0 1 0 0 1 1 0 0 1 0 1 1 1 0 1 1 1\n",
            " 1 0 0 0 1 1 0 1 0 0 1 0 1 1 1 1 0 0 0 1 0 1 0 0 0 0 1 1 1 0 0 1 1 0 1 0 1\n",
            " 0 0 0 0 0 0 0 1 1 1 1 1 1 0 1 1 1 1 0 1 0 1 1 0 0 0 0 1 0 1 0 1 1 0 1 1 1\n",
            " 0 0 1 0 1 1 1 1 0 0 1 0 1 1 1 0 1 1 1 0 0 0 1 0 1 1 1 0 1 1 0 1 1 0 1 0 0\n",
            " 0 1 1 1 1 1 1 1 1 0 1 1 1 0 0 0 0 1 0 1 1 0 0 0 1 0 0 0 0 1 0 1 1 1 0 1 0\n",
            " 1 0 1 0 1 1 0 0 0 0 1 0 1 1 0 0 1 1 0 0 1 0 1 0 1 0 1 0 0 0 1 0 1 0 1 0 0\n",
            " 1 0 0 1 1 0 1 0 0 0 0 1 0 0 1 0 0 0 0 0 1 1 0 1 1 1 1 1 1 1 0 1 0 1 1 1 0\n",
            " 0 0 0 1 1 0 0 0 1 1 0 1 1 1 1 1 0 1 1 0 1 0 0 1 0 0 1 1 1 1 1 1 0 1 0 1 1\n",
            " 1 1 0 1 0 1 1 0 0 1 0 0 0 0 0 1 0 0 1 1 0 1 0 0 1 1 0 1 1 1 0 0 0 0 1 0 1\n",
            " 0 1 0 0 0 1 1 0 0 1 0 0 0 1 1 0 1 0 0 0 0 0 0 0 1 1 0 1 0 1 0 0 1 0 1 1 1\n",
            " 0 0 1 0 1 0 1 0 1 1 1 1 1 1 1 1 0 0 0 0 1 1 0 0 1 0 1 1 0 0 0 1 0 0 1 1 0\n",
            " 1 0 0 1 1 1 1 0 1 0 1 0 0 1 1 0 0 1 1 1 0 1 1 1 0 0 0 0 0 1 1 0 0 0 0 0 0\n",
            " 0 1 0 1 0 0 0 1 1 1 1 1 1 1 1 0 0 1 1 0 0 0 0 0 0 0 0 1 1 1 1 0 1 0 1 0 1\n",
            " 0 0 0 0 1 1 0 0 0 1 1 0 1 0 0 1 0 1 0 1 0 0 1 0 1 0 1 1 1 0 0 1 1 0 0 0 1\n",
            " 0 1 0 0 1 1 1 1 0 1 1 0 1 1 1 0 1 1 0 1 1 0 1 0 1 0 1 1 1 1 1 0 0 1 0 0 1\n",
            " 0 0 0 0 1 0 0 0 0 1 1 1 1 1 0 0 0 0 1 1 1 0 1 1 0 0 0 1 0 1 1 0 0 0 1 1 1\n",
            " 1 0 1 1 0 1 1 0 1 0 1 0 1 0 1 0 1 1 1 0 1 0 1 1 1 0 1 1 1 0 0 1 0 0 0 1 0\n",
            " 1 1 1 1 0 0 0 0 0 1 0 1 0 0 0 1 0 1 1 0 1 0 1 0 1 0 0 0 0 0 1 1 1 0 1 1 0\n",
            " 1 1 1 1 0 0 0 0 0 1 0 1 1 0 0 1 1 1 0 0 1 0 0 0 0 0 0 1 0 0 1 1 1 0 1 0 1\n",
            " 1 1 1 0 0 1 0 0 1 1 1 1 1 1 0 0 0 0 1 1 0 1 0 0 1 0 0 0 1 1 1 1 1 1 1 1 0\n",
            " 1 1 1 0 0 0 0 0 1 1 1 1 1 0 1 0 1 1 0 1 0 1 1 1 0 1 0 0 1 0 0 0 1 1 1 0 0\n",
            " 0 1 1 0 1 1 0 1 0 0 1 0 1 0 1 0 0 1 0 0 1 1 1 0 1 1 1 0 1 0 0 1 0 0 0 1 1\n",
            " 1 1 0 1 0 0 1 0 0 1 1 1 0 0 1 0 0 1 0 0 1 1 1 1 1 1 0 1 1 0 0 0 0 1 1 0 1\n",
            " 0 1 1 0 1 1 1 1 0 0 0 0 1 1 1 0 0 1 0 1 0 0 0 1 1 1 0 0 0 1 0 1 0 0 1 1 0\n",
            " 1 1 1 0 0 0 0 1 0 0 1 0 0 0 1 0 1 1 0 1 1 1 0 0 0 1 0 0 0 1 1 1 0 0 0 0 1\n",
            " 0 0 0 1 0 0 0 0 1 1 0 0 0 1 1 1 0 1 0 1 0 0 0 0 1 0 1 1 0 1 0 1 0 1 0 1 0\n",
            " 0 0 0 0 0 0 0 1 1 0 0 0 0 0 1 1 0 0 0 1 0 1 1 0 1 0 1 0 1 1 0 0 1 0 1 0 1\n",
            " 1]\n"
          ],
          "name": "stdout"
        }
      ]
    },
    {
      "cell_type": "markdown",
      "metadata": {
        "id": "AMS5D6w_Qhfe",
        "colab_type": "text"
      },
      "source": [
        "*  **We will evaluate the model using repeated stratified k-fold cross-validation, with three repeats and 10 folds. We will report the mean and standard deviation of the accuracy of the model across all repeats and folds.**"
      ]
    },
    {
      "cell_type": "markdown",
      "metadata": {
        "id": "jutuNzWIQ8Oe",
        "colab_type": "text"
      },
      "source": [
        "**Please Refer following links for more understanding**\n",
        "* cross_val_score : https://scikit-learn.org/stable/modules/generated/sklearn.model_selection.cross_val_score.html\n",
        "* RepeatedStratifiedKFold: https://scikit-learn.org/stable/modules/generated/sklearn.model_selection.RepeatedStratifiedKFold.html\n",
        "* RandomForestClassifier()  : https://scikit-learn.org/stable/modules/generated/sklearn.ensemble.RandomForestClassifier.html"
      ]
    },
    {
      "cell_type": "code",
      "metadata": {
        "id": "XPFjqgDZPqfV",
        "colab_type": "code",
        "colab": {
          "base_uri": "https://localhost:8080/",
          "height": 34
        },
        "outputId": "22cd2e91-11c5-41b7-e379-bf8f0d27a2c1"
      },
      "source": [
        "# evaluate random forest algorithm for classification\n",
        "from numpy import mean\n",
        "from numpy import std\n",
        "from sklearn.datasets import make_classification\n",
        "from sklearn.model_selection import cross_val_score\n",
        "from sklearn.model_selection import RepeatedStratifiedKFold\n",
        "from sklearn.ensemble import RandomForestClassifier\n",
        "# define dataset\n",
        "X, y = make_classification(n_samples=1000, n_features=25, n_informative=20, n_redundant=5, random_state=3)\n",
        "# define the model\n",
        "model = RandomForestClassifier()\n",
        "# evaluate the model\n",
        "cv = RepeatedStratifiedKFold(n_splits=10, n_repeats=3, random_state=1)\n",
        "n_scores = cross_val_score(model, X, y, scoring='accuracy', cv=cv, n_jobs=-1, error_score='raise')\n",
        "# report performance\n",
        "print('Accuracy: %.3f (%.3f)' % (mean(n_scores), std(n_scores)))\n",
        "#every time when run algorithm result may vary because of stochastic nature of learning algorithm"
      ],
      "execution_count": 12,
      "outputs": [
        {
          "output_type": "stream",
          "text": [
            "Accuracy: 0.907 (0.034)\n"
          ],
          "name": "stdout"
        }
      ]
    },
    {
      "cell_type": "markdown",
      "metadata": {
        "id": "gpFt39Cbsko2",
        "colab_type": "text"
      },
      "source": [
        "**To make prediction for classification First, the random forest ensemble is fit on all available data, then the predict() function can be called to make predictions on new data.**"
      ]
    },
    {
      "cell_type": "code",
      "metadata": {
        "id": "JB6xj8rSr62e",
        "colab_type": "code",
        "colab": {
          "base_uri": "https://localhost:8080/",
          "height": 34
        },
        "outputId": "40ca1315-6bc1-4f53-faf3-194ebdfe2ad7"
      },
      "source": [
        "# make predictions using random forest for classification\n",
        "from sklearn.datasets import make_classification\n",
        "from sklearn.ensemble import RandomForestClassifier\n",
        "# define dataset\n",
        "X, y = make_classification(n_samples=1000, n_features=20, n_informative=15, n_redundant=5, random_state=3)\n",
        "# define the model\n",
        "model = RandomForestClassifier()\n",
        "# fit the model on the whole dataset\n",
        "model.fit(X, y)\n",
        "# make a single prediction\n",
        "#here we are prediction on single sample same way we can predict when we have test data in real world\n",
        "row = [[-8.52381793,5.24451077,-12.14967704,-2.92949242,0.99314133,0.67326595,-0.38657932,1.27955683,-0.60712621,3.20807316,0.60504151,-1.38706415,8.92444588,-7.43027595,-2.33653219,1.10358169,0.21547782,1.05057966,0.6975331,0.26076035]]\n",
        "yhat = model.predict(row)\n",
        "print('Predicted Class: %d' % yhat[0])\n"
      ],
      "execution_count": 14,
      "outputs": [
        {
          "output_type": "stream",
          "text": [
            "Predicted Class: 0\n"
          ],
          "name": "stdout"
        }
      ]
    },
    {
      "cell_type": "markdown",
      "metadata": {
        "id": "l9MvjLActQ4b",
        "colab_type": "text"
      },
      "source": [
        "# Random Forest for regression\n",
        "*  First, we can use the make_regression() function to create a synthetic regression problem with 1,000 examples and 20 input features.\n",
        "* **make_regression()** : https://scikit-learn.org/stable/modules/generated/sklearn.datasets.make_regression.html"
      ]
    },
    {
      "cell_type": "code",
      "metadata": {
        "id": "24FP72XJs6VZ",
        "colab_type": "code",
        "colab": {
          "base_uri": "https://localhost:8080/",
          "height": 34
        },
        "outputId": "c061ad82-5421-4bab-a718-085f064ca968"
      },
      "source": [
        "# test regression dataset\n",
        "from sklearn.datasets import make_regression\n",
        "# define dataset\n",
        "X, y = make_regression(n_samples=1000, n_features=30, n_informative=25, noise=0.1, random_state=2)\n",
        "# summarize the dataset\n",
        "print(X.shape, y.shape)"
      ],
      "execution_count": 15,
      "outputs": [
        {
          "output_type": "stream",
          "text": [
            "(1000, 30) (1000,)\n"
          ],
          "name": "stdout"
        }
      ]
    },
    {
      "cell_type": "code",
      "metadata": {
        "id": "kbAwYqOvw1M6",
        "colab_type": "code",
        "colab": {
          "base_uri": "https://localhost:8080/",
          "height": 238
        },
        "outputId": "89e7086c-9c58-4763-90d6-c5932ca2e053"
      },
      "source": [
        "print(X)  #data with 1000 samples(rows) and 30 features(columns)"
      ],
      "execution_count": 16,
      "outputs": [
        {
          "output_type": "stream",
          "text": [
            "[[-2.26701202e+00  1.32441809e+00  4.42677115e-01 ... -2.84081199e-01\n",
            "  -5.78804087e-01 -2.46932549e-01]\n",
            " [-7.05819970e-01 -1.70012060e-01  6.04344101e-01 ... -4.67016251e-02\n",
            "  -4.62142098e-01  2.70344069e-01]\n",
            " [ 8.65072824e-01 -1.09401380e-01 -1.38215062e+00 ... -1.84724568e+00\n",
            "   2.42625947e-01  1.49484284e+00]\n",
            " ...\n",
            " [-1.91247129e+00 -2.37674786e+00 -5.61144223e-01 ...  7.78416508e-01\n",
            "  -3.38627529e-01 -9.43300023e-01]\n",
            " [-9.57559083e-01 -4.37132565e-01 -3.51826978e-01 ...  8.58199428e-01\n",
            "  -7.26032272e-01 -1.14894528e-01]\n",
            " [-4.96432932e-02  1.14081588e-01 -2.68005109e-01 ...  6.04599295e-04\n",
            "   6.39248784e-01  8.85120896e-01]]\n"
          ],
          "name": "stdout"
        }
      ]
    },
    {
      "cell_type": "markdown",
      "metadata": {
        "id": "aD0BMYL5xULm",
        "colab_type": "text"
      },
      "source": [
        "* **we will evaluate the model using repeated k-fold cross-validation, with three repeats and 10 folds. We will report the mean absolute error (MAE) of the model across all repeats and folds.**\n",
        "\n",
        "* **The scikit-learn library makes the MAE negative so that it is maximized instead of minimized. This means that larger negative MAE are better and a perfect model has a MAE of 0.**"
      ]
    },
    {
      "cell_type": "code",
      "metadata": {
        "id": "gF5vNY9sw45-",
        "colab_type": "code",
        "colab": {
          "base_uri": "https://localhost:8080/",
          "height": 34
        },
        "outputId": "e216b332-04c9-49c4-c3ed-fe1e551667e8"
      },
      "source": [
        "# evaluate random forest ensemble for regression\n",
        "from numpy import mean\n",
        "from numpy import std\n",
        "from sklearn.datasets import make_regression\n",
        "from sklearn.model_selection import cross_val_score\n",
        "from sklearn.model_selection import RepeatedKFold\n",
        "from sklearn.ensemble import RandomForestRegressor\n",
        "# define dataset\n",
        "X, y = make_regression(n_samples=1000, n_features=20, n_informative=15, noise=0.1, random_state=2)\n",
        "# define the model\n",
        "model = RandomForestRegressor()\n",
        "# evaluate the model\n",
        "cv = RepeatedKFold(n_splits=10, n_repeats=3, random_state=1)\n",
        "n_scores = cross_val_score(model, X, y, scoring='neg_mean_absolute_error', cv=cv, n_jobs=-1, error_score='raise')\n",
        "# report performance\n",
        "print('MAE: %.3f (%.3f)' % (mean(n_scores), std(n_scores)))"
      ],
      "execution_count": 19,
      "outputs": [
        {
          "output_type": "stream",
          "text": [
            "MAE: -90.660 (8.141)\n"
          ],
          "name": "stdout"
        }
      ]
    },
    {
      "cell_type": "markdown",
      "metadata": {
        "id": "jsipCz2kzFxQ",
        "colab_type": "text"
      },
      "source": [
        "* In this case, we can see the random forest ensemble with default hyperparameters achieves a MAE of about 90.\n",
        "* We can also use the random forest model as a final model and make predictions for regression.\n",
        "\n",
        "* First, the random forest ensemble is fit on all available data, then the predict() function can be called to make predictions on new data.\n",
        "\n",
        "* The example below demonstrates this on our regression dataset.\n",
        "\n"
      ]
    },
    {
      "cell_type": "code",
      "metadata": {
        "id": "aaBGMObQxCo9",
        "colab_type": "code",
        "colab": {
          "base_uri": "https://localhost:8080/",
          "height": 34
        },
        "outputId": "d29e41aa-ace2-4e23-8e25-9cc1f3f31076"
      },
      "source": [
        "# random forest for making predictions for regression\n",
        "from sklearn.datasets import make_regression\n",
        "from sklearn.ensemble import RandomForestRegressor\n",
        "# define dataset\n",
        "X, y = make_regression(n_samples=1000, n_features=20, n_informative=15, noise=0.1, random_state=2)\n",
        "# define the model\n",
        "model = RandomForestRegressor()\n",
        "# fit the model on the whole dataset\n",
        "model.fit(X, y)\n",
        "# make a single prediction\n",
        "row = [[-0.89483109,-1.0670149,-0.25448694,-0.53850126,0.21082105,1.37435592,0.71203659,0.73093031,-1.25878104,-2.01656886,0.51906798,0.62767387,0.96250155,1.31410617,-1.25527295,-0.85079036,0.24129757,-0.17571721,-1.11454339,0.36268268]]\n",
        "yhat = model.predict(row)\n",
        "print('Prediction: %d' % yhat[0])\n"
      ],
      "execution_count": 22,
      "outputs": [
        {
          "output_type": "stream",
          "text": [
            "Prediction: -147\n"
          ],
          "name": "stdout"
        }
      ]
    },
    {
      "cell_type": "markdown",
      "metadata": {
        "id": "zc3qgPp6ztrA",
        "colab_type": "text"
      },
      "source": [
        "*  specific results may vary given the stochastic nature of the learning algorithm"
      ]
    },
    {
      "cell_type": "markdown",
      "metadata": {
        "id": "FYMXqSBLzwwq",
        "colab_type": "text"
      },
      "source": [
        "# Random Forest HyperParameters\n",
        "* ## Explore Number of samples\n",
        "  *  Each decision tree in the ensemble is fit on a bootstrap sample drawn from the training dataset.\n",
        "\n",
        "  *  This can be turned off by setting the “bootstrap” argument to False, if you desire. In that case, the whole training dataset will be used to train each decision tree. This is not recommended.\n",
        "  * The “max_samples” argument can be set to a float between 0 and 1 to control the percentage of the size of the training dataset to make the bootstrap sample used to train each decision tree.\n",
        "  * For example, if the training dataset has 100 rows, the max_samples argument could be set to 0.5 and each decision tree will be fit on a bootstrap sample with (100 * 0.5) or 50 rows of data.\n",
        "  * A smaller sample size will make trees more different, and a larger sample size will make the trees more similar. Setting max_samples to “None” will make the sample size the same size as the training dataset and this is the default.\n",
        "  * The example below demonstrates the effect of different bootstrap sample sizes from 10 percent to 100 percent on the random forest algorithm.\n",
        "  "
      ]
    },
    {
      "cell_type": "code",
      "metadata": {
        "id": "AFICNSmWzdVT",
        "colab_type": "code",
        "colab": {
          "base_uri": "https://localhost:8080/",
          "height": 446
        },
        "outputId": "5cc857d9-707e-41cd-88c9-c182ea5a48b7"
      },
      "source": [
        "# explore random forest bootstrap sample size on performance\n",
        "from numpy import mean\n",
        "from numpy import std\n",
        "from sklearn.datasets import make_classification\n",
        "from sklearn.model_selection import cross_val_score\n",
        "from sklearn.model_selection import RepeatedStratifiedKFold\n",
        "from sklearn.ensemble import RandomForestClassifier\n",
        "from matplotlib import pyplot\n",
        " \n",
        "# get the dataset\n",
        "def get_dataset():\n",
        "\tX, y = make_classification(n_samples=1000, n_features=20, n_informative=15, n_redundant=5, random_state=3)\n",
        "\treturn X, y\n",
        " \n",
        "# get a list of models to evaluate\n",
        "def get_models():\n",
        "\tmodels = dict()\n",
        "\tmodels['10'] = RandomForestClassifier(max_samples=0.1)\n",
        "\tmodels['20'] = RandomForestClassifier(max_samples=0.2)\n",
        "\tmodels['30'] = RandomForestClassifier(max_samples=0.3)\n",
        "\tmodels['40'] = RandomForestClassifier(max_samples=0.4)\n",
        "\tmodels['50'] = RandomForestClassifier(max_samples=0.5)\n",
        "\tmodels['60'] = RandomForestClassifier(max_samples=0.6)\n",
        "\tmodels['70'] = RandomForestClassifier(max_samples=0.7)\n",
        "\tmodels['80'] = RandomForestClassifier(max_samples=0.8)\n",
        "\tmodels['90'] = RandomForestClassifier(max_samples=0.9)\n",
        "\tmodels['100'] = RandomForestClassifier(max_samples=None)\n",
        "\treturn models\n",
        " \n",
        "# evaluate a give model using cross-validation\n",
        "def evaluate_model(model):\n",
        "\tcv = RepeatedStratifiedKFold(n_splits=10, n_repeats=3, random_state=1)\n",
        "\tscores = cross_val_score(model, X, y, scoring='accuracy', cv=cv, n_jobs=-1, error_score='raise')\n",
        "\treturn scores\n",
        " \n",
        "# define dataset\n",
        "X, y = get_dataset()\n",
        "# get the models to evaluate\n",
        "models = get_models()\n",
        "# evaluate the models and store results\n",
        "results, names = list(), list()\n",
        "for name, model in models.items():\n",
        "\tscores = evaluate_model(model)\n",
        "\tresults.append(scores)\n",
        "\tnames.append(name)\n",
        "\tprint('>%s %.3f (%.3f)' % (name, mean(scores), std(scores)))\n",
        "# plot model performance for comparison\n",
        "pyplot.boxplot(results, labels=names, showmeans=True)\n",
        "pyplot.xticks(rotation=45)\n",
        "pyplot.show()"
      ],
      "execution_count": 23,
      "outputs": [
        {
          "output_type": "stream",
          "text": [
            ">10 0.855 (0.035)\n",
            ">20 0.876 (0.024)\n",
            ">30 0.879 (0.025)\n",
            ">40 0.891 (0.027)\n",
            ">50 0.897 (0.026)\n",
            ">60 0.894 (0.025)\n",
            ">70 0.899 (0.028)\n",
            ">80 0.900 (0.023)\n",
            ">90 0.902 (0.024)\n",
            ">100 0.901 (0.027)\n"
          ],
          "name": "stdout"
        },
        {
          "output_type": "display_data",
          "data": {
            "image/png": "[encoded data removed]",
            "text/plain": [
              "<Figure size 432x288 with 1 Axes>"
            ]
          },
          "metadata": {
            "tags": [],
            "needs_background": "light"
          }
        }
      ]
    },
    {
      "cell_type": "markdown",
      "metadata": {
        "id": "EY1xN8aW2MJS",
        "colab_type": "text"
      },
      "source": [
        "* **In this case, the results suggest that using a bootstrap sample size that is equal to the size of the training dataset achieves the best results on this dataset.**\n",
        "\n",
        "* **A box and whisker plot is created for the distribution of accuracy scores for each bootstrap sample size.**\n",
        "\n",
        "* **In this case, we can see a general trend that the larger the sample, the better the performance of the model.**"
      ]
    },
    {
      "cell_type": "markdown",
      "metadata": {
        "id": "90DDXo6l3V1c",
        "colab_type": "text"
      },
      "source": [
        "##  **Explore Number of features**\n",
        "\n",
        "* The number of features that is randomly sampled for each split point is perhaps the most important feature to configure for random forest.\n",
        "\n",
        "* It is set via the max_features argument and defaults to the square root of the number of input features. In this case, for our test dataset, this would be sqrt(20) or about four features.\n",
        "\n",
        "* The example below explores the effect of the number of features randomly selected at each split point on model accuracy. We will try values from 1 to 7 and would expect a small value, around four, to perform well based on the heuristic."
      ]
    },
    {
      "cell_type": "code",
      "metadata": {
        "id": "31AFnETt3XfQ",
        "colab_type": "code",
        "colab": {
          "base_uri": "https://localhost:8080/",
          "height": 384
        },
        "outputId": "a55384db-0d5b-488f-80a8-9d615dd66abc"
      },
      "source": [
        "# explore random forest number of features effect on performance\n",
        "from numpy import mean\n",
        "from numpy import std\n",
        "from sklearn.datasets import make_classification\n",
        "from sklearn.model_selection import cross_val_score\n",
        "from sklearn.model_selection import RepeatedStratifiedKFold\n",
        "from sklearn.ensemble import RandomForestClassifier\n",
        "from matplotlib import pyplot\n",
        " \n",
        "# get the dataset\n",
        "def get_dataset():\n",
        "\tX, y = make_classification(n_samples=1000, n_features=20, n_informative=15, n_redundant=5, random_state=3)\n",
        "\treturn X, y\n",
        " \n",
        "# get a list of models to evaluate\n",
        "def get_models():\n",
        "\tmodels = dict()\n",
        "\tmodels['1'] = RandomForestClassifier(max_features=1)\n",
        "\tmodels['2'] = RandomForestClassifier(max_features=2)\n",
        "\tmodels['3'] = RandomForestClassifier(max_features=3)\n",
        "\tmodels['4'] = RandomForestClassifier(max_features=4)\n",
        "\tmodels['5'] = RandomForestClassifier(max_features=5)\n",
        "\tmodels['6'] = RandomForestClassifier(max_features=6)\n",
        "\tmodels['7'] = RandomForestClassifier(max_features=7)\n",
        "\treturn models\n",
        " \n",
        "# evaluate a give model using cross-validation\n",
        "def evaluate_model(model):\n",
        "\tcv = RepeatedStratifiedKFold(n_splits=10, n_repeats=3, random_state=1)\n",
        "\tscores = cross_val_score(model, X, y, scoring='accuracy', cv=cv, n_jobs=-1, error_score='raise')\n",
        "\treturn scores\n",
        " \n",
        "# define dataset\n",
        "X, y = get_dataset()\n",
        "# get the models to evaluate\n",
        "models = get_models()\n",
        "# evaluate the models and store results\n",
        "results, names = list(), list()\n",
        "for name, model in models.items():\n",
        "\tscores = evaluate_model(model)\n",
        "\tresults.append(scores)\n",
        "\tnames.append(name)\n",
        "\tprint('>%s %.3f (%.3f)' % (name, mean(scores), std(scores)))\n",
        "# plot model performance for comparison\n",
        "pyplot.boxplot(results, labels=names, showmeans=True)\n",
        "pyplot.show()"
      ],
      "execution_count": 24,
      "outputs": [
        {
          "output_type": "stream",
          "text": [
            ">1 0.890 (0.028)\n",
            ">2 0.903 (0.027)\n",
            ">3 0.903 (0.032)\n",
            ">4 0.900 (0.025)\n",
            ">5 0.904 (0.025)\n",
            ">6 0.897 (0.023)\n",
            ">7 0.902 (0.022)\n"
          ],
          "name": "stdout"
        },
        {
          "output_type": "display_data",
          "data": {
            "image/png": "[encoded data removed]",
            "text/plain": [
              "<Figure size 432x288 with 1 Axes>"
            ]
          },
          "metadata": {
            "tags": [],
            "needs_background": "light"
          }
        }
      ]
    },
    {
      "cell_type": "markdown",
      "metadata": {
        "id": "C5LIFP8e4g_0",
        "colab_type": "text"
      },
      "source": [
        "* In this case, the results suggest that a value between three and five would be appropriate, confirming the sensible default of four on this dataset.\n",
        "* A value of five might even be better given the smaller standard deviation in classification accuracy as compared to a value of three or four.\n",
        "* A box and whisker plot is created for the distribution of accuracy scores for each feature set size.\n",
        "* We can see a trend in performance rising and peaking with values between three and five and falling again as larger feature set sizes are considered"
      ]
    },
    {
      "cell_type": "markdown",
      "metadata": {
        "id": "pb6TtoFh44-a",
        "colab_type": "text"
      },
      "source": [
        "## **Explore Number Of Trees**\n",
        "* The number of trees is another key hyperparameter to configure for the random forest.\n",
        "\n",
        "* Typically, the number of trees is increased until the model performance stabilizes. \n",
        "* Intuition might suggest that more trees will lead to overfitting, although this is not the case. Both bagging and random forest algorithms appear to be somewhat immune to overfitting the training dataset given the stochastic nature of the learning algorithm.\n",
        "\n",
        "* The number of trees can be set via the “n_estimators” argument and defaults to 100.\n",
        "\n",
        "* The example below explores the effect of the number of trees with values between 10 to 1,000."
      ]
    },
    {
      "cell_type": "code",
      "metadata": {
        "id": "sdgXzbhc1mGV",
        "colab_type": "code",
        "colab": {
          "base_uri": "https://localhost:8080/",
          "height": 350
        },
        "outputId": "684b98b7-fa38-4acb-b619-5457a81261dd"
      },
      "source": [
        "# explore random forest number of trees effect on performance\n",
        "from numpy import mean\n",
        "from numpy import std\n",
        "from sklearn.datasets import make_classification\n",
        "from sklearn.model_selection import cross_val_score\n",
        "from sklearn.model_selection import RepeatedStratifiedKFold\n",
        "from sklearn.ensemble import RandomForestClassifier\n",
        "from matplotlib import pyplot\n",
        " \n",
        "# get the dataset\n",
        "def get_dataset():\n",
        "\tX, y = make_classification(n_samples=1000, n_features=20, n_informative=15, n_redundant=5, random_state=3)\n",
        "\treturn X, y\n",
        " \n",
        "# get a list of models to evaluate\n",
        "def get_models():\n",
        "\tmodels = dict()\n",
        "\tmodels['10'] = RandomForestClassifier(n_estimators=10)\n",
        "\tmodels['50'] = RandomForestClassifier(n_estimators=50)\n",
        "\tmodels['100'] = RandomForestClassifier(n_estimators=100)\n",
        "\tmodels['500'] = RandomForestClassifier(n_estimators=500)\n",
        "\tmodels['1000'] = RandomForestClassifier(n_estimators=1000)\n",
        "\treturn models\n",
        " \n",
        "# evaluate a give model using cross-validation\n",
        "def evaluate_model(model):\n",
        "\tcv = RepeatedStratifiedKFold(n_splits=10, n_repeats=3, random_state=1)\n",
        "\tscores = cross_val_score(model, X, y, scoring='accuracy', cv=cv, n_jobs=-1, error_score='raise')\n",
        "\treturn scores\n",
        " \n",
        "# define dataset\n",
        "X, y = get_dataset()\n",
        "# get the models to evaluate\n",
        "models = get_models()\n",
        "# evaluate the models and store results\n",
        "results, names = list(), list()\n",
        "for name, model in models.items():\n",
        "\tscores = evaluate_model(model)\n",
        "\tresults.append(scores)\n",
        "\tnames.append(name)\n",
        "\tprint('>%s %.3f (%.3f)' % (name, mean(scores), std(scores)))\n",
        "# plot model performance for comparison\n",
        "pyplot.boxplot(results, labels=names, showmeans=True)\n",
        "pyplot.show()"
      ],
      "execution_count": 25,
      "outputs": [
        {
          "output_type": "stream",
          "text": [
            ">10 0.870 (0.032)\n",
            ">50 0.898 (0.031)\n",
            ">100 0.901 (0.027)\n",
            ">500 0.904 (0.023)\n",
            ">1000 0.904 (0.023)\n"
          ],
          "name": "stdout"
        },
        {
          "output_type": "display_data",
          "data": {
            "image/png": "[encoded data removed]",
            "text/plain": [
              "<Figure size 432x288 with 1 Axes>"
            ]
          },
          "metadata": {
            "tags": [],
            "needs_background": "light"
          }
        }
      ]
    },
    {
      "cell_type": "markdown",
      "metadata": {
        "id": "u_PT6yAa6Da5",
        "colab_type": "text"
      },
      "source": [
        "* **In this case, we can see that performance rises and stays flat after about 100 trees. Mean accuracy scores fluctuate across 100, 500, and 1,000 trees and this may be statistical noise.** \n",
        "* **Default value of n_estimator in RandomForestClassifier is 100**"
      ]
    },
    {
      "cell_type": "markdown",
      "metadata": {
        "id": "daD6iMku6N3I",
        "colab_type": "text"
      },
      "source": [
        "## **Explore Tree Depth**\n",
        "* A final interesting hyperparameter is the maximum depth of decision trees used in the ensemble.\n",
        "\n",
        "* By default, trees are constructed to an arbitrary depth and are not pruned. This is a sensible default, although we can also explore fitting trees with different fixed depths.\n",
        "\n",
        "* The maximum tree depth can be specified via the max_depth argument and is set to None (no maximum depth) by default.\n",
        "\n",
        "* The example below explores the effect of random forest maximum tree depth on model performance."
      ]
    },
    {
      "cell_type": "code",
      "metadata": {
        "id": "pSG02u2S5zBb",
        "colab_type": "code",
        "colab": {
          "base_uri": "https://localhost:8080/",
          "height": 401
        },
        "outputId": "15e2231c-2356-43b2-a88d-3e9923f02b45"
      },
      "source": [
        "# explore random forest tree depth effect on performance\n",
        "from numpy import mean\n",
        "from numpy import std\n",
        "from sklearn.datasets import make_classification\n",
        "from sklearn.model_selection import cross_val_score\n",
        "from sklearn.model_selection import RepeatedStratifiedKFold\n",
        "from sklearn.ensemble import RandomForestClassifier\n",
        "from matplotlib import pyplot\n",
        " \n",
        "# get the dataset\n",
        "def get_dataset():\n",
        "\tX, y = make_classification(n_samples=1000, n_features=20, n_informative=15, n_redundant=5, random_state=3)\n",
        "\treturn X, y\n",
        " \n",
        "# get a list of models to evaluate\n",
        "def get_models():\n",
        "\tmodels = dict()\n",
        "\tmodels['1'] = RandomForestClassifier(max_depth=1)\n",
        "\tmodels['2'] = RandomForestClassifier(max_depth=2)\n",
        "\tmodels['3'] = RandomForestClassifier(max_depth=3)\n",
        "\tmodels['4'] = RandomForestClassifier(max_depth=4)\n",
        "\tmodels['5'] = RandomForestClassifier(max_depth=5)\n",
        "\tmodels['6'] = RandomForestClassifier(max_depth=6)\n",
        "\tmodels['7'] = RandomForestClassifier(max_depth=7)\n",
        "\tmodels['None'] = RandomForestClassifier(max_depth=None)\n",
        "\treturn models\n",
        " \n",
        "# evaluate a give model using cross-validation\n",
        "def evaluate_model(model):\n",
        "\tcv = RepeatedStratifiedKFold(n_splits=10, n_repeats=3, random_state=1)\n",
        "\tscores = cross_val_score(model, X, y, scoring='accuracy', cv=cv, n_jobs=-1, error_score='raise')\n",
        "\treturn scores\n",
        " \n",
        "# define dataset\n",
        "X, y = get_dataset()\n",
        "# get the models to evaluate\n",
        "models = get_models()\n",
        "# evaluate the models and store results\n",
        "results, names = list(), list()\n",
        "for name, model in models.items():\n",
        "\tscores = evaluate_model(model)\n",
        "\tresults.append(scores)\n",
        "\tnames.append(name)\n",
        "\tprint('>%s %.3f (%.3f)' % (name, mean(scores), std(scores)))\n",
        "# plot model performance for comparison\n",
        "pyplot.boxplot(results, labels=names, showmeans=True)\n",
        "pyplot.show()"
      ],
      "execution_count": 26,
      "outputs": [
        {
          "output_type": "stream",
          "text": [
            ">1 0.772 (0.033)\n",
            ">2 0.810 (0.035)\n",
            ">3 0.835 (0.025)\n",
            ">4 0.851 (0.029)\n",
            ">5 0.872 (0.025)\n",
            ">6 0.882 (0.024)\n",
            ">7 0.892 (0.021)\n",
            ">None 0.904 (0.023)\n"
          ],
          "name": "stdout"
        },
        {
          "output_type": "display_data",
          "data": {
            "image/png": "[encoded data removed]",
            "text/plain": [
              "<Figure size 432x288 with 1 Axes>"
            ]
          },
          "metadata": {
            "tags": [],
            "needs_background": "light"
          }
        }
      ]
    },
    {
      "cell_type": "markdown",
      "metadata": {
        "id": "LR98hSoB7oGy",
        "colab_type": "text"
      },
      "source": [
        "* In this case, we can see that larger depth results in better model performance, with the default of no maximum depth achieving the best performance on this dataset.\n",
        "* A box and whisker plot is created for the distribution of accuracy scores for each configured maximum tree depth.\n",
        "\n",
        "* In this case, we can see a trend of improved performance with increase in tree depth, supporting the default of no maximum depth."
      ]
    }
  ]
}